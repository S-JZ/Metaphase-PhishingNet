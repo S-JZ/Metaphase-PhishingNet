{
  "cells": [
    {
      "cell_type": "code",
      "execution_count": 1,
      "id": "6c01752b",
      "metadata": {
        "_cell_guid": "b1076dfc-b9ad-4769-8c92-a6c4dae69d19",
        "_uuid": "8f2839f25d086af736a60e9eeb907d3b93b6e0e5",
        "execution": {
          "iopub.execute_input": "2022-01-11T06:28:10.346383Z",
          "iopub.status.busy": "2022-01-11T06:28:10.344595Z",
          "iopub.status.idle": "2022-01-11T06:28:10.365072Z",
          "shell.execute_reply": "2022-01-11T06:28:10.365860Z",
          "shell.execute_reply.started": "2022-01-11T06:20:55.282036Z"
        },
        "papermill": {
          "duration": 0.091567,
          "end_time": "2022-01-11T06:28:10.366320",
          "exception": false,
          "start_time": "2022-01-11T06:28:10.274753",
          "status": "completed"
        },
        "tags": [],
        "id": "6c01752b"
      },
      "outputs": [],
      "source": [
        "import numpy as np \n",
        "import pandas as pd "
      ]
    },
    {
      "cell_type": "code",
      "execution_count": 2,
      "id": "71033a50",
      "metadata": {
        "execution": {
          "iopub.execute_input": "2022-01-11T06:28:10.500106Z",
          "iopub.status.busy": "2022-01-11T06:28:10.499408Z",
          "iopub.status.idle": "2022-01-11T06:28:10.531248Z",
          "shell.execute_reply": "2022-01-11T06:28:10.531806Z",
          "shell.execute_reply.started": "2022-01-11T06:20:55.295283Z"
        },
        "papermill": {
          "duration": 0.100389,
          "end_time": "2022-01-11T06:28:10.532026",
          "exception": false,
          "start_time": "2022-01-11T06:28:10.431637",
          "status": "completed"
        },
        "tags": [],
        "id": "71033a50"
      },
      "outputs": [],
      "source": [
        "import pandas as pd\n",
        "df = pd.read_csv(\"spam.csv\", encoding='latin-1')"
      ]
    },
    {
      "cell_type": "code",
      "execution_count": 3,
      "id": "3362a00f",
      "metadata": {
        "execution": {
          "iopub.execute_input": "2022-01-11T06:28:10.661139Z",
          "iopub.status.busy": "2022-01-11T06:28:10.660468Z",
          "iopub.status.idle": "2022-01-11T06:28:10.681240Z",
          "shell.execute_reply": "2022-01-11T06:28:10.680621Z",
          "shell.execute_reply.started": "2022-01-11T06:20:55.326570Z"
        },
        "papermill": {
          "duration": 0.087182,
          "end_time": "2022-01-11T06:28:10.681403",
          "exception": false,
          "start_time": "2022-01-11T06:28:10.594221",
          "status": "completed"
        },
        "tags": [],
        "colab": {
          "base_uri": "https://localhost:8080/",
          "height": 206
        },
        "id": "3362a00f",
        "outputId": "f55ab40e-528d-4984-dc6a-b26c18525d6f"
      },
      "outputs": [
        {
          "output_type": "execute_result",
          "data": {
            "text/html": [
              "\n",
              "  <div id=\"df-6c9e093d-3f7b-402f-af3f-cb445ce96489\">\n",
              "    <div class=\"colab-df-container\">\n",
              "      <div>\n",
              "<style scoped>\n",
              "    .dataframe tbody tr th:only-of-type {\n",
              "        vertical-align: middle;\n",
              "    }\n",
              "\n",
              "    .dataframe tbody tr th {\n",
              "        vertical-align: top;\n",
              "    }\n",
              "\n",
              "    .dataframe thead th {\n",
              "        text-align: right;\n",
              "    }\n",
              "</style>\n",
              "<table border=\"1\" class=\"dataframe\">\n",
              "  <thead>\n",
              "    <tr style=\"text-align: right;\">\n",
              "      <th></th>\n",
              "      <th>v1</th>\n",
              "      <th>v2</th>\n",
              "      <th>Unnamed: 2</th>\n",
              "      <th>Unnamed: 3</th>\n",
              "      <th>Unnamed: 4</th>\n",
              "    </tr>\n",
              "  </thead>\n",
              "  <tbody>\n",
              "    <tr>\n",
              "      <th>0</th>\n",
              "      <td>ham</td>\n",
              "      <td>Go until jurong point, crazy.. Available only ...</td>\n",
              "      <td>NaN</td>\n",
              "      <td>NaN</td>\n",
              "      <td>NaN</td>\n",
              "    </tr>\n",
              "    <tr>\n",
              "      <th>1</th>\n",
              "      <td>ham</td>\n",
              "      <td>Ok lar... Joking wif u oni...</td>\n",
              "      <td>NaN</td>\n",
              "      <td>NaN</td>\n",
              "      <td>NaN</td>\n",
              "    </tr>\n",
              "    <tr>\n",
              "      <th>2</th>\n",
              "      <td>spam</td>\n",
              "      <td>Free entry in 2 a wkly comp to win FA Cup fina...</td>\n",
              "      <td>NaN</td>\n",
              "      <td>NaN</td>\n",
              "      <td>NaN</td>\n",
              "    </tr>\n",
              "    <tr>\n",
              "      <th>3</th>\n",
              "      <td>ham</td>\n",
              "      <td>U dun say so early hor... U c already then say...</td>\n",
              "      <td>NaN</td>\n",
              "      <td>NaN</td>\n",
              "      <td>NaN</td>\n",
              "    </tr>\n",
              "    <tr>\n",
              "      <th>4</th>\n",
              "      <td>ham</td>\n",
              "      <td>Nah I don't think he goes to usf, he lives aro...</td>\n",
              "      <td>NaN</td>\n",
              "      <td>NaN</td>\n",
              "      <td>NaN</td>\n",
              "    </tr>\n",
              "  </tbody>\n",
              "</table>\n",
              "</div>\n",
              "      <button class=\"colab-df-convert\" onclick=\"convertToInteractive('df-6c9e093d-3f7b-402f-af3f-cb445ce96489')\"\n",
              "              title=\"Convert this dataframe to an interactive table.\"\n",
              "              style=\"display:none;\">\n",
              "        \n",
              "  <svg xmlns=\"http://www.w3.org/2000/svg\" height=\"24px\"viewBox=\"0 0 24 24\"\n",
              "       width=\"24px\">\n",
              "    <path d=\"M0 0h24v24H0V0z\" fill=\"none\"/>\n",
              "    <path d=\"M18.56 5.44l.94 2.06.94-2.06 2.06-.94-2.06-.94-.94-2.06-.94 2.06-2.06.94zm-11 1L8.5 8.5l.94-2.06 2.06-.94-2.06-.94L8.5 2.5l-.94 2.06-2.06.94zm10 10l.94 2.06.94-2.06 2.06-.94-2.06-.94-.94-2.06-.94 2.06-2.06.94z\"/><path d=\"M17.41 7.96l-1.37-1.37c-.4-.4-.92-.59-1.43-.59-.52 0-1.04.2-1.43.59L10.3 9.45l-7.72 7.72c-.78.78-.78 2.05 0 2.83L4 21.41c.39.39.9.59 1.41.59.51 0 1.02-.2 1.41-.59l7.78-7.78 2.81-2.81c.8-.78.8-2.07 0-2.86zM5.41 20L4 18.59l7.72-7.72 1.47 1.35L5.41 20z\"/>\n",
              "  </svg>\n",
              "      </button>\n",
              "      \n",
              "  <style>\n",
              "    .colab-df-container {\n",
              "      display:flex;\n",
              "      flex-wrap:wrap;\n",
              "      gap: 12px;\n",
              "    }\n",
              "\n",
              "    .colab-df-convert {\n",
              "      background-color: #E8F0FE;\n",
              "      border: none;\n",
              "      border-radius: 50%;\n",
              "      cursor: pointer;\n",
              "      display: none;\n",
              "      fill: #1967D2;\n",
              "      height: 32px;\n",
              "      padding: 0 0 0 0;\n",
              "      width: 32px;\n",
              "    }\n",
              "\n",
              "    .colab-df-convert:hover {\n",
              "      background-color: #E2EBFA;\n",
              "      box-shadow: 0px 1px 2px rgba(60, 64, 67, 0.3), 0px 1px 3px 1px rgba(60, 64, 67, 0.15);\n",
              "      fill: #174EA6;\n",
              "    }\n",
              "\n",
              "    [theme=dark] .colab-df-convert {\n",
              "      background-color: #3B4455;\n",
              "      fill: #D2E3FC;\n",
              "    }\n",
              "\n",
              "    [theme=dark] .colab-df-convert:hover {\n",
              "      background-color: #434B5C;\n",
              "      box-shadow: 0px 1px 3px 1px rgba(0, 0, 0, 0.15);\n",
              "      filter: drop-shadow(0px 1px 2px rgba(0, 0, 0, 0.3));\n",
              "      fill: #FFFFFF;\n",
              "    }\n",
              "  </style>\n",
              "\n",
              "      <script>\n",
              "        const buttonEl =\n",
              "          document.querySelector('#df-6c9e093d-3f7b-402f-af3f-cb445ce96489 button.colab-df-convert');\n",
              "        buttonEl.style.display =\n",
              "          google.colab.kernel.accessAllowed ? 'block' : 'none';\n",
              "\n",
              "        async function convertToInteractive(key) {\n",
              "          const element = document.querySelector('#df-6c9e093d-3f7b-402f-af3f-cb445ce96489');\n",
              "          const dataTable =\n",
              "            await google.colab.kernel.invokeFunction('convertToInteractive',\n",
              "                                                     [key], {});\n",
              "          if (!dataTable) return;\n",
              "\n",
              "          const docLinkHtml = 'Like what you see? Visit the ' +\n",
              "            '<a target=\"_blank\" href=https://colab.research.google.com/notebooks/data_table.ipynb>data table notebook</a>'\n",
              "            + ' to learn more about interactive tables.';\n",
              "          element.innerHTML = '';\n",
              "          dataTable['output_type'] = 'display_data';\n",
              "          await google.colab.output.renderOutput(dataTable, element);\n",
              "          const docLink = document.createElement('div');\n",
              "          docLink.innerHTML = docLinkHtml;\n",
              "          element.appendChild(docLink);\n",
              "        }\n",
              "      </script>\n",
              "    </div>\n",
              "  </div>\n",
              "  "
            ],
            "text/plain": [
              "     v1  ... Unnamed: 4\n",
              "0   ham  ...        NaN\n",
              "1   ham  ...        NaN\n",
              "2  spam  ...        NaN\n",
              "3   ham  ...        NaN\n",
              "4   ham  ...        NaN\n",
              "\n",
              "[5 rows x 5 columns]"
            ]
          },
          "metadata": {},
          "execution_count": 3
        }
      ],
      "source": [
        "df.head()"
      ]
    },
    {
      "cell_type": "code",
      "execution_count": 4,
      "id": "0d3b41a0",
      "metadata": {
        "execution": {
          "iopub.execute_input": "2022-01-11T06:28:10.815099Z",
          "iopub.status.busy": "2022-01-11T06:28:10.814189Z",
          "iopub.status.idle": "2022-01-11T06:28:10.817570Z",
          "shell.execute_reply": "2022-01-11T06:28:10.818079Z",
          "shell.execute_reply.started": "2022-01-11T06:20:55.343137Z"
        },
        "papermill": {
          "duration": 0.073165,
          "end_time": "2022-01-11T06:28:10.818266",
          "exception": false,
          "start_time": "2022-01-11T06:28:10.745101",
          "status": "completed"
        },
        "tags": [],
        "colab": {
          "base_uri": "https://localhost:8080/"
        },
        "id": "0d3b41a0",
        "outputId": "2f0b8104-3cd8-4c25-92e3-902b0f414f67"
      },
      "outputs": [
        {
          "output_type": "execute_result",
          "data": {
            "text/plain": [
              "(5572, 5)"
            ]
          },
          "metadata": {},
          "execution_count": 4
        }
      ],
      "source": [
        "df.shape"
      ]
    },
    {
      "cell_type": "markdown",
      "id": "eda9a906",
      "metadata": {
        "papermill": {
          "duration": 0.062139,
          "end_time": "2022-01-11T06:28:11.077303",
          "exception": false,
          "start_time": "2022-01-11T06:28:11.015164",
          "status": "completed"
        },
        "tags": [],
        "id": "eda9a906"
      },
      "source": [
        "\n",
        "# 1. Data Cleaning"
      ]
    },
    {
      "cell_type": "code",
      "execution_count": 5,
      "id": "57d1e5a8",
      "metadata": {
        "execution": {
          "iopub.execute_input": "2022-01-11T06:28:11.228086Z",
          "iopub.status.busy": "2022-01-11T06:28:11.206702Z",
          "iopub.status.idle": "2022-01-11T06:28:11.231658Z",
          "shell.execute_reply": "2022-01-11T06:28:11.232380Z",
          "shell.execute_reply.started": "2022-01-11T06:20:55.363630Z"
        },
        "papermill": {
          "duration": 0.093076,
          "end_time": "2022-01-11T06:28:11.232605",
          "exception": false,
          "start_time": "2022-01-11T06:28:11.139529",
          "status": "completed"
        },
        "tags": [],
        "id": "57d1e5a8",
        "outputId": "83e35b68-9fc0-4737-cd51-5f58a3bd55d6",
        "colab": {
          "base_uri": "https://localhost:8080/"
        }
      },
      "outputs": [
        {
          "output_type": "stream",
          "name": "stdout",
          "text": [
            "<class 'pandas.core.frame.DataFrame'>\n",
            "RangeIndex: 5572 entries, 0 to 5571\n",
            "Data columns (total 5 columns):\n",
            " #   Column      Non-Null Count  Dtype \n",
            "---  ------      --------------  ----- \n",
            " 0   v1          5572 non-null   object\n",
            " 1   v2          5572 non-null   object\n",
            " 2   Unnamed: 2  50 non-null     object\n",
            " 3   Unnamed: 3  12 non-null     object\n",
            " 4   Unnamed: 4  6 non-null      object\n",
            "dtypes: object(5)\n",
            "memory usage: 217.8+ KB\n"
          ]
        }
      ],
      "source": [
        "df.info()"
      ]
    },
    {
      "cell_type": "code",
      "execution_count": 6,
      "id": "8c9f56d2",
      "metadata": {
        "execution": {
          "iopub.execute_input": "2022-01-11T06:28:11.367141Z",
          "iopub.status.busy": "2022-01-11T06:28:11.366482Z",
          "iopub.status.idle": "2022-01-11T06:28:11.371747Z",
          "shell.execute_reply": "2022-01-11T06:28:11.372285Z",
          "shell.execute_reply.started": "2022-01-11T06:20:55.387821Z"
        },
        "papermill": {
          "duration": 0.072998,
          "end_time": "2022-01-11T06:28:11.372456",
          "exception": false,
          "start_time": "2022-01-11T06:28:11.299458",
          "status": "completed"
        },
        "tags": [],
        "id": "8c9f56d2"
      },
      "outputs": [],
      "source": [
        "#drop last 3 columns\n",
        "df.drop(columns=[\"Unnamed: 2\",\"Unnamed: 3\",\"Unnamed: 4\"],inplace=True)"
      ]
    },
    {
      "cell_type": "code",
      "execution_count": 7,
      "id": "11e71665",
      "metadata": {
        "execution": {
          "iopub.execute_input": "2022-01-11T06:28:11.504431Z",
          "iopub.status.busy": "2022-01-11T06:28:11.503487Z",
          "iopub.status.idle": "2022-01-11T06:28:11.515654Z",
          "shell.execute_reply": "2022-01-11T06:28:11.516189Z",
          "shell.execute_reply.started": "2022-01-11T06:20:55.394380Z"
        },
        "papermill": {
          "duration": 0.079666,
          "end_time": "2022-01-11T06:28:11.516386",
          "exception": false,
          "start_time": "2022-01-11T06:28:11.436720",
          "status": "completed"
        },
        "tags": [],
        "colab": {
          "base_uri": "https://localhost:8080/",
          "height": 424
        },
        "id": "11e71665",
        "outputId": "2de4767e-dd67-40f5-baed-66d09dfc4712"
      },
      "outputs": [
        {
          "output_type": "execute_result",
          "data": {
            "text/html": [
              "\n",
              "  <div id=\"df-c3032ce2-db05-4f80-b727-8d8b7e677da3\">\n",
              "    <div class=\"colab-df-container\">\n",
              "      <div>\n",
              "<style scoped>\n",
              "    .dataframe tbody tr th:only-of-type {\n",
              "        vertical-align: middle;\n",
              "    }\n",
              "\n",
              "    .dataframe tbody tr th {\n",
              "        vertical-align: top;\n",
              "    }\n",
              "\n",
              "    .dataframe thead th {\n",
              "        text-align: right;\n",
              "    }\n",
              "</style>\n",
              "<table border=\"1\" class=\"dataframe\">\n",
              "  <thead>\n",
              "    <tr style=\"text-align: right;\">\n",
              "      <th></th>\n",
              "      <th>v1</th>\n",
              "      <th>v2</th>\n",
              "    </tr>\n",
              "  </thead>\n",
              "  <tbody>\n",
              "    <tr>\n",
              "      <th>0</th>\n",
              "      <td>ham</td>\n",
              "      <td>Go until jurong point, crazy.. Available only ...</td>\n",
              "    </tr>\n",
              "    <tr>\n",
              "      <th>1</th>\n",
              "      <td>ham</td>\n",
              "      <td>Ok lar... Joking wif u oni...</td>\n",
              "    </tr>\n",
              "    <tr>\n",
              "      <th>2</th>\n",
              "      <td>spam</td>\n",
              "      <td>Free entry in 2 a wkly comp to win FA Cup fina...</td>\n",
              "    </tr>\n",
              "    <tr>\n",
              "      <th>3</th>\n",
              "      <td>ham</td>\n",
              "      <td>U dun say so early hor... U c already then say...</td>\n",
              "    </tr>\n",
              "    <tr>\n",
              "      <th>4</th>\n",
              "      <td>ham</td>\n",
              "      <td>Nah I don't think he goes to usf, he lives aro...</td>\n",
              "    </tr>\n",
              "    <tr>\n",
              "      <th>...</th>\n",
              "      <td>...</td>\n",
              "      <td>...</td>\n",
              "    </tr>\n",
              "    <tr>\n",
              "      <th>5567</th>\n",
              "      <td>spam</td>\n",
              "      <td>This is the 2nd time we have tried 2 contact u...</td>\n",
              "    </tr>\n",
              "    <tr>\n",
              "      <th>5568</th>\n",
              "      <td>ham</td>\n",
              "      <td>Will Ì_ b going to esplanade fr home?</td>\n",
              "    </tr>\n",
              "    <tr>\n",
              "      <th>5569</th>\n",
              "      <td>ham</td>\n",
              "      <td>Pity, * was in mood for that. So...any other s...</td>\n",
              "    </tr>\n",
              "    <tr>\n",
              "      <th>5570</th>\n",
              "      <td>ham</td>\n",
              "      <td>The guy did some bitching but I acted like i'd...</td>\n",
              "    </tr>\n",
              "    <tr>\n",
              "      <th>5571</th>\n",
              "      <td>ham</td>\n",
              "      <td>Rofl. Its true to its name</td>\n",
              "    </tr>\n",
              "  </tbody>\n",
              "</table>\n",
              "<p>5572 rows × 2 columns</p>\n",
              "</div>\n",
              "      <button class=\"colab-df-convert\" onclick=\"convertToInteractive('df-c3032ce2-db05-4f80-b727-8d8b7e677da3')\"\n",
              "              title=\"Convert this dataframe to an interactive table.\"\n",
              "              style=\"display:none;\">\n",
              "        \n",
              "  <svg xmlns=\"http://www.w3.org/2000/svg\" height=\"24px\"viewBox=\"0 0 24 24\"\n",
              "       width=\"24px\">\n",
              "    <path d=\"M0 0h24v24H0V0z\" fill=\"none\"/>\n",
              "    <path d=\"M18.56 5.44l.94 2.06.94-2.06 2.06-.94-2.06-.94-.94-2.06-.94 2.06-2.06.94zm-11 1L8.5 8.5l.94-2.06 2.06-.94-2.06-.94L8.5 2.5l-.94 2.06-2.06.94zm10 10l.94 2.06.94-2.06 2.06-.94-2.06-.94-.94-2.06-.94 2.06-2.06.94z\"/><path d=\"M17.41 7.96l-1.37-1.37c-.4-.4-.92-.59-1.43-.59-.52 0-1.04.2-1.43.59L10.3 9.45l-7.72 7.72c-.78.78-.78 2.05 0 2.83L4 21.41c.39.39.9.59 1.41.59.51 0 1.02-.2 1.41-.59l7.78-7.78 2.81-2.81c.8-.78.8-2.07 0-2.86zM5.41 20L4 18.59l7.72-7.72 1.47 1.35L5.41 20z\"/>\n",
              "  </svg>\n",
              "      </button>\n",
              "      \n",
              "  <style>\n",
              "    .colab-df-container {\n",
              "      display:flex;\n",
              "      flex-wrap:wrap;\n",
              "      gap: 12px;\n",
              "    }\n",
              "\n",
              "    .colab-df-convert {\n",
              "      background-color: #E8F0FE;\n",
              "      border: none;\n",
              "      border-radius: 50%;\n",
              "      cursor: pointer;\n",
              "      display: none;\n",
              "      fill: #1967D2;\n",
              "      height: 32px;\n",
              "      padding: 0 0 0 0;\n",
              "      width: 32px;\n",
              "    }\n",
              "\n",
              "    .colab-df-convert:hover {\n",
              "      background-color: #E2EBFA;\n",
              "      box-shadow: 0px 1px 2px rgba(60, 64, 67, 0.3), 0px 1px 3px 1px rgba(60, 64, 67, 0.15);\n",
              "      fill: #174EA6;\n",
              "    }\n",
              "\n",
              "    [theme=dark] .colab-df-convert {\n",
              "      background-color: #3B4455;\n",
              "      fill: #D2E3FC;\n",
              "    }\n",
              "\n",
              "    [theme=dark] .colab-df-convert:hover {\n",
              "      background-color: #434B5C;\n",
              "      box-shadow: 0px 1px 3px 1px rgba(0, 0, 0, 0.15);\n",
              "      filter: drop-shadow(0px 1px 2px rgba(0, 0, 0, 0.3));\n",
              "      fill: #FFFFFF;\n",
              "    }\n",
              "  </style>\n",
              "\n",
              "      <script>\n",
              "        const buttonEl =\n",
              "          document.querySelector('#df-c3032ce2-db05-4f80-b727-8d8b7e677da3 button.colab-df-convert');\n",
              "        buttonEl.style.display =\n",
              "          google.colab.kernel.accessAllowed ? 'block' : 'none';\n",
              "\n",
              "        async function convertToInteractive(key) {\n",
              "          const element = document.querySelector('#df-c3032ce2-db05-4f80-b727-8d8b7e677da3');\n",
              "          const dataTable =\n",
              "            await google.colab.kernel.invokeFunction('convertToInteractive',\n",
              "                                                     [key], {});\n",
              "          if (!dataTable) return;\n",
              "\n",
              "          const docLinkHtml = 'Like what you see? Visit the ' +\n",
              "            '<a target=\"_blank\" href=https://colab.research.google.com/notebooks/data_table.ipynb>data table notebook</a>'\n",
              "            + ' to learn more about interactive tables.';\n",
              "          element.innerHTML = '';\n",
              "          dataTable['output_type'] = 'display_data';\n",
              "          await google.colab.output.renderOutput(dataTable, element);\n",
              "          const docLink = document.createElement('div');\n",
              "          docLink.innerHTML = docLinkHtml;\n",
              "          element.appendChild(docLink);\n",
              "        }\n",
              "      </script>\n",
              "    </div>\n",
              "  </div>\n",
              "  "
            ],
            "text/plain": [
              "        v1                                                 v2\n",
              "0      ham  Go until jurong point, crazy.. Available only ...\n",
              "1      ham                      Ok lar... Joking wif u oni...\n",
              "2     spam  Free entry in 2 a wkly comp to win FA Cup fina...\n",
              "3      ham  U dun say so early hor... U c already then say...\n",
              "4      ham  Nah I don't think he goes to usf, he lives aro...\n",
              "...    ...                                                ...\n",
              "5567  spam  This is the 2nd time we have tried 2 contact u...\n",
              "5568   ham              Will Ì_ b going to esplanade fr home?\n",
              "5569   ham  Pity, * was in mood for that. So...any other s...\n",
              "5570   ham  The guy did some bitching but I acted like i'd...\n",
              "5571   ham                         Rofl. Its true to its name\n",
              "\n",
              "[5572 rows x 2 columns]"
            ]
          },
          "metadata": {},
          "execution_count": 7
        }
      ],
      "source": [
        "df"
      ]
    },
    {
      "cell_type": "code",
      "execution_count": 8,
      "id": "d4c83d18",
      "metadata": {
        "execution": {
          "iopub.execute_input": "2022-01-11T06:28:11.648540Z",
          "iopub.status.busy": "2022-01-11T06:28:11.647575Z",
          "iopub.status.idle": "2022-01-11T06:28:11.652668Z",
          "shell.execute_reply": "2022-01-11T06:28:11.653302Z",
          "shell.execute_reply.started": "2022-01-11T06:20:55.413381Z"
        },
        "papermill": {
          "duration": 0.073123,
          "end_time": "2022-01-11T06:28:11.653496",
          "exception": false,
          "start_time": "2022-01-11T06:28:11.580373",
          "status": "completed"
        },
        "tags": [],
        "id": "d4c83d18"
      },
      "outputs": [],
      "source": [
        "#renameing the columns name\n",
        "df.rename(columns={'v1':'target','v2':'text'},inplace=True)"
      ]
    },
    {
      "cell_type": "code",
      "execution_count": 9,
      "id": "bcadd16c",
      "metadata": {
        "execution": {
          "iopub.execute_input": "2022-01-11T06:28:11.785503Z",
          "iopub.status.busy": "2022-01-11T06:28:11.784539Z",
          "iopub.status.idle": "2022-01-11T06:28:12.930911Z",
          "shell.execute_reply": "2022-01-11T06:28:12.929726Z",
          "shell.execute_reply.started": "2022-01-11T06:20:55.420627Z"
        },
        "papermill": {
          "duration": 1.213745,
          "end_time": "2022-01-11T06:28:12.931085",
          "exception": false,
          "start_time": "2022-01-11T06:28:11.717340",
          "status": "completed"
        },
        "tags": [],
        "id": "bcadd16c"
      },
      "outputs": [],
      "source": [
        "from sklearn.preprocessing import LabelEncoder\n",
        "encoder = LabelEncoder()"
      ]
    },
    {
      "cell_type": "code",
      "execution_count": 10,
      "id": "07906275",
      "metadata": {
        "execution": {
          "iopub.execute_input": "2022-01-11T06:28:13.118664Z",
          "iopub.status.busy": "2022-01-11T06:28:13.117956Z",
          "iopub.status.idle": "2022-01-11T06:28:13.122359Z",
          "shell.execute_reply": "2022-01-11T06:28:13.122887Z",
          "shell.execute_reply.started": "2022-01-11T06:20:55.431302Z"
        },
        "papermill": {
          "duration": 0.103676,
          "end_time": "2022-01-11T06:28:13.123066",
          "exception": false,
          "start_time": "2022-01-11T06:28:13.019390",
          "status": "completed"
        },
        "tags": [],
        "id": "07906275"
      },
      "outputs": [],
      "source": [
        "df['target'] = encoder.fit_transform(df['target'])"
      ]
    },
    {
      "cell_type": "code",
      "execution_count": 11,
      "id": "c6dc8619",
      "metadata": {
        "execution": {
          "iopub.execute_input": "2022-01-11T06:28:13.288818Z",
          "iopub.status.busy": "2022-01-11T06:28:13.287832Z",
          "iopub.status.idle": "2022-01-11T06:28:13.300811Z",
          "shell.execute_reply": "2022-01-11T06:28:13.301635Z",
          "shell.execute_reply.started": "2022-01-11T06:20:55.446610Z"
        },
        "papermill": {
          "duration": 0.093223,
          "end_time": "2022-01-11T06:28:13.301944",
          "exception": false,
          "start_time": "2022-01-11T06:28:13.208721",
          "status": "completed"
        },
        "tags": [],
        "colab": {
          "base_uri": "https://localhost:8080/",
          "height": 206
        },
        "id": "c6dc8619",
        "outputId": "9f62e9e6-eb0b-4e49-bc44-22b91710dd33"
      },
      "outputs": [
        {
          "output_type": "execute_result",
          "data": {
            "text/html": [
              "\n",
              "  <div id=\"df-f72be2da-808a-4a75-bf0d-796dcd039705\">\n",
              "    <div class=\"colab-df-container\">\n",
              "      <div>\n",
              "<style scoped>\n",
              "    .dataframe tbody tr th:only-of-type {\n",
              "        vertical-align: middle;\n",
              "    }\n",
              "\n",
              "    .dataframe tbody tr th {\n",
              "        vertical-align: top;\n",
              "    }\n",
              "\n",
              "    .dataframe thead th {\n",
              "        text-align: right;\n",
              "    }\n",
              "</style>\n",
              "<table border=\"1\" class=\"dataframe\">\n",
              "  <thead>\n",
              "    <tr style=\"text-align: right;\">\n",
              "      <th></th>\n",
              "      <th>target</th>\n",
              "      <th>text</th>\n",
              "    </tr>\n",
              "  </thead>\n",
              "  <tbody>\n",
              "    <tr>\n",
              "      <th>0</th>\n",
              "      <td>0</td>\n",
              "      <td>Go until jurong point, crazy.. Available only ...</td>\n",
              "    </tr>\n",
              "    <tr>\n",
              "      <th>1</th>\n",
              "      <td>0</td>\n",
              "      <td>Ok lar... Joking wif u oni...</td>\n",
              "    </tr>\n",
              "    <tr>\n",
              "      <th>2</th>\n",
              "      <td>1</td>\n",
              "      <td>Free entry in 2 a wkly comp to win FA Cup fina...</td>\n",
              "    </tr>\n",
              "    <tr>\n",
              "      <th>3</th>\n",
              "      <td>0</td>\n",
              "      <td>U dun say so early hor... U c already then say...</td>\n",
              "    </tr>\n",
              "    <tr>\n",
              "      <th>4</th>\n",
              "      <td>0</td>\n",
              "      <td>Nah I don't think he goes to usf, he lives aro...</td>\n",
              "    </tr>\n",
              "  </tbody>\n",
              "</table>\n",
              "</div>\n",
              "      <button class=\"colab-df-convert\" onclick=\"convertToInteractive('df-f72be2da-808a-4a75-bf0d-796dcd039705')\"\n",
              "              title=\"Convert this dataframe to an interactive table.\"\n",
              "              style=\"display:none;\">\n",
              "        \n",
              "  <svg xmlns=\"http://www.w3.org/2000/svg\" height=\"24px\"viewBox=\"0 0 24 24\"\n",
              "       width=\"24px\">\n",
              "    <path d=\"M0 0h24v24H0V0z\" fill=\"none\"/>\n",
              "    <path d=\"M18.56 5.44l.94 2.06.94-2.06 2.06-.94-2.06-.94-.94-2.06-.94 2.06-2.06.94zm-11 1L8.5 8.5l.94-2.06 2.06-.94-2.06-.94L8.5 2.5l-.94 2.06-2.06.94zm10 10l.94 2.06.94-2.06 2.06-.94-2.06-.94-.94-2.06-.94 2.06-2.06.94z\"/><path d=\"M17.41 7.96l-1.37-1.37c-.4-.4-.92-.59-1.43-.59-.52 0-1.04.2-1.43.59L10.3 9.45l-7.72 7.72c-.78.78-.78 2.05 0 2.83L4 21.41c.39.39.9.59 1.41.59.51 0 1.02-.2 1.41-.59l7.78-7.78 2.81-2.81c.8-.78.8-2.07 0-2.86zM5.41 20L4 18.59l7.72-7.72 1.47 1.35L5.41 20z\"/>\n",
              "  </svg>\n",
              "      </button>\n",
              "      \n",
              "  <style>\n",
              "    .colab-df-container {\n",
              "      display:flex;\n",
              "      flex-wrap:wrap;\n",
              "      gap: 12px;\n",
              "    }\n",
              "\n",
              "    .colab-df-convert {\n",
              "      background-color: #E8F0FE;\n",
              "      border: none;\n",
              "      border-radius: 50%;\n",
              "      cursor: pointer;\n",
              "      display: none;\n",
              "      fill: #1967D2;\n",
              "      height: 32px;\n",
              "      padding: 0 0 0 0;\n",
              "      width: 32px;\n",
              "    }\n",
              "\n",
              "    .colab-df-convert:hover {\n",
              "      background-color: #E2EBFA;\n",
              "      box-shadow: 0px 1px 2px rgba(60, 64, 67, 0.3), 0px 1px 3px 1px rgba(60, 64, 67, 0.15);\n",
              "      fill: #174EA6;\n",
              "    }\n",
              "\n",
              "    [theme=dark] .colab-df-convert {\n",
              "      background-color: #3B4455;\n",
              "      fill: #D2E3FC;\n",
              "    }\n",
              "\n",
              "    [theme=dark] .colab-df-convert:hover {\n",
              "      background-color: #434B5C;\n",
              "      box-shadow: 0px 1px 3px 1px rgba(0, 0, 0, 0.15);\n",
              "      filter: drop-shadow(0px 1px 2px rgba(0, 0, 0, 0.3));\n",
              "      fill: #FFFFFF;\n",
              "    }\n",
              "  </style>\n",
              "\n",
              "      <script>\n",
              "        const buttonEl =\n",
              "          document.querySelector('#df-f72be2da-808a-4a75-bf0d-796dcd039705 button.colab-df-convert');\n",
              "        buttonEl.style.display =\n",
              "          google.colab.kernel.accessAllowed ? 'block' : 'none';\n",
              "\n",
              "        async function convertToInteractive(key) {\n",
              "          const element = document.querySelector('#df-f72be2da-808a-4a75-bf0d-796dcd039705');\n",
              "          const dataTable =\n",
              "            await google.colab.kernel.invokeFunction('convertToInteractive',\n",
              "                                                     [key], {});\n",
              "          if (!dataTable) return;\n",
              "\n",
              "          const docLinkHtml = 'Like what you see? Visit the ' +\n",
              "            '<a target=\"_blank\" href=https://colab.research.google.com/notebooks/data_table.ipynb>data table notebook</a>'\n",
              "            + ' to learn more about interactive tables.';\n",
              "          element.innerHTML = '';\n",
              "          dataTable['output_type'] = 'display_data';\n",
              "          await google.colab.output.renderOutput(dataTable, element);\n",
              "          const docLink = document.createElement('div');\n",
              "          docLink.innerHTML = docLinkHtml;\n",
              "          element.appendChild(docLink);\n",
              "        }\n",
              "      </script>\n",
              "    </div>\n",
              "  </div>\n",
              "  "
            ],
            "text/plain": [
              "   target                                               text\n",
              "0       0  Go until jurong point, crazy.. Available only ...\n",
              "1       0                      Ok lar... Joking wif u oni...\n",
              "2       1  Free entry in 2 a wkly comp to win FA Cup fina...\n",
              "3       0  U dun say so early hor... U c already then say...\n",
              "4       0  Nah I don't think he goes to usf, he lives aro..."
            ]
          },
          "metadata": {},
          "execution_count": 11
        }
      ],
      "source": [
        "df.head()"
      ]
    },
    {
      "cell_type": "code",
      "execution_count": 12,
      "id": "7d2c7843",
      "metadata": {
        "execution": {
          "iopub.execute_input": "2022-01-11T06:28:13.462083Z",
          "iopub.status.busy": "2022-01-11T06:28:13.461322Z",
          "iopub.status.idle": "2022-01-11T06:28:13.471921Z",
          "shell.execute_reply": "2022-01-11T06:28:13.472549Z",
          "shell.execute_reply.started": "2022-01-11T06:20:55.459733Z"
        },
        "papermill": {
          "duration": 0.085849,
          "end_time": "2022-01-11T06:28:13.472750",
          "exception": false,
          "start_time": "2022-01-11T06:28:13.386901",
          "status": "completed"
        },
        "tags": [],
        "colab": {
          "base_uri": "https://localhost:8080/"
        },
        "id": "7d2c7843",
        "outputId": "7c7774a6-cec2-43ab-c52c-714f67151a08"
      },
      "outputs": [
        {
          "output_type": "execute_result",
          "data": {
            "text/plain": [
              "target    0\n",
              "text      0\n",
              "dtype: int64"
            ]
          },
          "metadata": {},
          "execution_count": 12
        }
      ],
      "source": [
        "#missing values\n",
        "df.isnull().sum()"
      ]
    },
    {
      "cell_type": "code",
      "execution_count": 13,
      "id": "9c60463e",
      "metadata": {
        "execution": {
          "iopub.execute_input": "2022-01-11T06:28:13.612376Z",
          "iopub.status.busy": "2022-01-11T06:28:13.611700Z",
          "iopub.status.idle": "2022-01-11T06:28:13.623232Z",
          "shell.execute_reply": "2022-01-11T06:28:13.623747Z",
          "shell.execute_reply.started": "2022-01-11T06:20:55.477152Z"
        },
        "papermill": {
          "duration": 0.084267,
          "end_time": "2022-01-11T06:28:13.623977",
          "exception": false,
          "start_time": "2022-01-11T06:28:13.539710",
          "status": "completed"
        },
        "tags": [],
        "colab": {
          "base_uri": "https://localhost:8080/"
        },
        "id": "9c60463e",
        "outputId": "445cf529-f62f-4011-9481-6ab636520edf"
      },
      "outputs": [
        {
          "output_type": "execute_result",
          "data": {
            "text/plain": [
              "403"
            ]
          },
          "metadata": {},
          "execution_count": 13
        }
      ],
      "source": [
        "#checking for duplicate values\n",
        "df.duplicated().sum()"
      ]
    },
    {
      "cell_type": "code",
      "execution_count": 14,
      "id": "a45c9f45",
      "metadata": {
        "execution": {
          "iopub.execute_input": "2022-01-11T06:28:13.762008Z",
          "iopub.status.busy": "2022-01-11T06:28:13.761334Z",
          "iopub.status.idle": "2022-01-11T06:28:13.778615Z",
          "shell.execute_reply": "2022-01-11T06:28:13.777755Z",
          "shell.execute_reply.started": "2022-01-11T06:20:55.489789Z"
        },
        "papermill": {
          "duration": 0.086934,
          "end_time": "2022-01-11T06:28:13.778880",
          "exception": false,
          "start_time": "2022-01-11T06:28:13.691946",
          "status": "completed"
        },
        "tags": [],
        "id": "a45c9f45"
      },
      "outputs": [],
      "source": [
        "df=df.drop_duplicates(keep='first')"
      ]
    },
    {
      "cell_type": "code",
      "execution_count": 15,
      "id": "5b2c7575",
      "metadata": {
        "execution": {
          "iopub.execute_input": "2022-01-11T06:28:13.920260Z",
          "iopub.status.busy": "2022-01-11T06:28:13.919289Z",
          "iopub.status.idle": "2022-01-11T06:28:13.930381Z",
          "shell.execute_reply": "2022-01-11T06:28:13.930930Z",
          "shell.execute_reply.started": "2022-01-11T06:20:55.500398Z"
        },
        "papermill": {
          "duration": 0.080263,
          "end_time": "2022-01-11T06:28:13.931143",
          "exception": false,
          "start_time": "2022-01-11T06:28:13.850880",
          "status": "completed"
        },
        "tags": [],
        "colab": {
          "base_uri": "https://localhost:8080/"
        },
        "id": "5b2c7575",
        "outputId": "e07b3048-3cb6-4ca6-ae86-87948a64d219"
      },
      "outputs": [
        {
          "output_type": "execute_result",
          "data": {
            "text/plain": [
              "0"
            ]
          },
          "metadata": {},
          "execution_count": 15
        }
      ],
      "source": [
        "df.duplicated().sum()"
      ]
    },
    {
      "cell_type": "code",
      "execution_count": null,
      "id": "cbb0a87a",
      "metadata": {
        "execution": {
          "iopub.execute_input": "2022-01-11T06:28:14.070021Z",
          "iopub.status.busy": "2022-01-11T06:28:14.069240Z",
          "iopub.status.idle": "2022-01-11T06:28:14.071922Z",
          "shell.execute_reply": "2022-01-11T06:28:14.072449Z",
          "shell.execute_reply.started": "2022-01-11T06:20:55.512751Z"
        },
        "papermill": {
          "duration": 0.075154,
          "end_time": "2022-01-11T06:28:14.072646",
          "exception": false,
          "start_time": "2022-01-11T06:28:13.997492",
          "status": "completed"
        },
        "tags": [],
        "colab": {
          "base_uri": "https://localhost:8080/"
        },
        "id": "cbb0a87a",
        "outputId": "1ad8f2d1-31d7-4d45-c743-69c169a576de"
      },
      "outputs": [
        {
          "output_type": "execute_result",
          "data": {
            "text/plain": [
              "(5169, 2)"
            ]
          },
          "metadata": {},
          "execution_count": 20
        }
      ],
      "source": [
        "df.shape"
      ]
    },
    {
      "cell_type": "markdown",
      "id": "4ee88700",
      "metadata": {
        "papermill": {
          "duration": 0.066248,
          "end_time": "2022-01-11T06:28:14.205074",
          "exception": false,
          "start_time": "2022-01-11T06:28:14.138826",
          "status": "completed"
        },
        "tags": [],
        "id": "4ee88700"
      },
      "source": [
        "# 2.EDA"
      ]
    },
    {
      "cell_type": "code",
      "execution_count": null,
      "id": "406ee390",
      "metadata": {
        "execution": {
          "iopub.execute_input": "2022-01-11T06:28:14.340223Z",
          "iopub.status.busy": "2022-01-11T06:28:14.339590Z",
          "iopub.status.idle": "2022-01-11T06:28:14.347467Z",
          "shell.execute_reply": "2022-01-11T06:28:14.347931Z",
          "shell.execute_reply.started": "2022-01-11T06:20:55.520021Z"
        },
        "papermill": {
          "duration": 0.076908,
          "end_time": "2022-01-11T06:28:14.348130",
          "exception": false,
          "start_time": "2022-01-11T06:28:14.271222",
          "status": "completed"
        },
        "tags": [],
        "id": "406ee390",
        "outputId": "72d045b9-d539-401a-f44b-480a9467c3c6"
      },
      "outputs": [
        {
          "data": {
            "text/html": [
              "<div>\n",
              "<style scoped>\n",
              "    .dataframe tbody tr th:only-of-type {\n",
              "        vertical-align: middle;\n",
              "    }\n",
              "\n",
              "    .dataframe tbody tr th {\n",
              "        vertical-align: top;\n",
              "    }\n",
              "\n",
              "    .dataframe thead th {\n",
              "        text-align: right;\n",
              "    }\n",
              "</style>\n",
              "<table border=\"1\" class=\"dataframe\">\n",
              "  <thead>\n",
              "    <tr style=\"text-align: right;\">\n",
              "      <th></th>\n",
              "      <th>target</th>\n",
              "      <th>text</th>\n",
              "    </tr>\n",
              "  </thead>\n",
              "  <tbody>\n",
              "    <tr>\n",
              "      <th>0</th>\n",
              "      <td>0</td>\n",
              "      <td>Go until jurong point, crazy.. Available only ...</td>\n",
              "    </tr>\n",
              "    <tr>\n",
              "      <th>1</th>\n",
              "      <td>0</td>\n",
              "      <td>Ok lar... Joking wif u oni...</td>\n",
              "    </tr>\n",
              "    <tr>\n",
              "      <th>2</th>\n",
              "      <td>1</td>\n",
              "      <td>Free entry in 2 a wkly comp to win FA Cup fina...</td>\n",
              "    </tr>\n",
              "    <tr>\n",
              "      <th>3</th>\n",
              "      <td>0</td>\n",
              "      <td>U dun say so early hor... U c already then say...</td>\n",
              "    </tr>\n",
              "    <tr>\n",
              "      <th>4</th>\n",
              "      <td>0</td>\n",
              "      <td>Nah I don't think he goes to usf, he lives aro...</td>\n",
              "    </tr>\n",
              "  </tbody>\n",
              "</table>\n",
              "</div>"
            ],
            "text/plain": [
              "   target                                               text\n",
              "0       0  Go until jurong point, crazy.. Available only ...\n",
              "1       0                      Ok lar... Joking wif u oni...\n",
              "2       1  Free entry in 2 a wkly comp to win FA Cup fina...\n",
              "3       0  U dun say so early hor... U c already then say...\n",
              "4       0  Nah I don't think he goes to usf, he lives aro..."
            ]
          },
          "execution_count": 18,
          "metadata": {},
          "output_type": "execute_result"
        }
      ],
      "source": [
        "df.head()"
      ]
    },
    {
      "cell_type": "code",
      "execution_count": null,
      "id": "7dd23a9b",
      "metadata": {
        "execution": {
          "iopub.execute_input": "2022-01-11T06:28:14.485426Z",
          "iopub.status.busy": "2022-01-11T06:28:14.484807Z",
          "iopub.status.idle": "2022-01-11T06:28:14.491932Z",
          "shell.execute_reply": "2022-01-11T06:28:14.492453Z",
          "shell.execute_reply.started": "2022-01-11T06:20:55.535559Z"
        },
        "papermill": {
          "duration": 0.077158,
          "end_time": "2022-01-11T06:28:14.492655",
          "exception": false,
          "start_time": "2022-01-11T06:28:14.415497",
          "status": "completed"
        },
        "tags": [],
        "id": "7dd23a9b",
        "outputId": "63922070-7db7-42db-ade5-09e10b706c56"
      },
      "outputs": [
        {
          "data": {
            "text/plain": [
              "0    4516\n",
              "1     653\n",
              "Name: target, dtype: int64"
            ]
          },
          "execution_count": 19,
          "metadata": {},
          "output_type": "execute_result"
        }
      ],
      "source": [
        "df['target'].value_counts()"
      ]
    },
    {
      "cell_type": "code",
      "execution_count": null,
      "id": "5d0f09c1",
      "metadata": {
        "execution": {
          "iopub.execute_input": "2022-01-11T06:28:14.628544Z",
          "iopub.status.busy": "2022-01-11T06:28:14.627615Z",
          "iopub.status.idle": "2022-01-11T06:28:14.631464Z",
          "shell.execute_reply": "2022-01-11T06:28:14.632088Z",
          "shell.execute_reply.started": "2022-01-11T06:20:55.548464Z"
        },
        "papermill": {
          "duration": 0.073394,
          "end_time": "2022-01-11T06:28:14.632268",
          "exception": false,
          "start_time": "2022-01-11T06:28:14.558874",
          "status": "completed"
        },
        "tags": [],
        "id": "5d0f09c1"
      },
      "outputs": [],
      "source": [
        "import matplotlib.pyplot as plt"
      ]
    },
    {
      "cell_type": "code",
      "execution_count": null,
      "id": "25cc5b0d",
      "metadata": {
        "execution": {
          "iopub.execute_input": "2022-01-11T06:28:14.769203Z",
          "iopub.status.busy": "2022-01-11T06:28:14.768199Z",
          "iopub.status.idle": "2022-01-11T06:28:14.919238Z",
          "shell.execute_reply": "2022-01-11T06:28:14.920292Z",
          "shell.execute_reply.started": "2022-01-11T06:20:55.558568Z"
        },
        "papermill": {
          "duration": 0.222272,
          "end_time": "2022-01-11T06:28:14.920606",
          "exception": false,
          "start_time": "2022-01-11T06:28:14.698334",
          "status": "completed"
        },
        "tags": [],
        "colab": {
          "base_uri": "https://localhost:8080/",
          "height": 248
        },
        "id": "25cc5b0d",
        "outputId": "45665d88-a151-44fc-a2d3-ff229299be82"
      },
      "outputs": [
        {
          "output_type": "display_data",
          "data": {
            "image/png": "[encoded data removed]",
            "text/plain": [
              "<Figure size 432x288 with 1 Axes>"
            ]
          },
          "metadata": {}
        }
      ],
      "source": [
        "plt.pie(df[\"target\"].value_counts(),labels=[\"ham\",\"spam\"],autopct=\"%0.2f\")\n",
        "plt.show()"
      ]
    },
    {
      "cell_type": "code",
      "execution_count": null,
      "id": "c55c0d8a",
      "metadata": {
        "execution": {
          "iopub.execute_input": "2022-01-11T06:28:15.090493Z",
          "iopub.status.busy": "2022-01-11T06:28:15.089812Z",
          "iopub.status.idle": "2022-01-11T06:28:15.092641Z",
          "shell.execute_reply": "2022-01-11T06:28:15.093161Z",
          "shell.execute_reply.started": "2022-01-11T06:20:55.701734Z"
        },
        "papermill": {
          "duration": 0.074354,
          "end_time": "2022-01-11T06:28:15.093464",
          "exception": false,
          "start_time": "2022-01-11T06:28:15.019110",
          "status": "completed"
        },
        "tags": [],
        "id": "c55c0d8a"
      },
      "outputs": [],
      "source": [
        "# as we can see the data in imbalance\n",
        "\n",
        "#lets keep as it is and start working on text data"
      ]
    },
    {
      "cell_type": "code",
      "execution_count": null,
      "id": "4ab5fd42",
      "metadata": {
        "execution": {
          "iopub.execute_input": "2022-01-11T06:28:15.232144Z",
          "iopub.status.busy": "2022-01-11T06:28:15.231496Z",
          "iopub.status.idle": "2022-01-11T06:28:15.873600Z",
          "shell.execute_reply": "2022-01-11T06:28:15.872928Z",
          "shell.execute_reply.started": "2022-01-11T06:20:55.708255Z"
        },
        "papermill": {
          "duration": 0.712479,
          "end_time": "2022-01-11T06:28:15.873748",
          "exception": false,
          "start_time": "2022-01-11T06:28:15.161269",
          "status": "completed"
        },
        "tags": [],
        "id": "4ab5fd42"
      },
      "outputs": [],
      "source": [
        "import nltk"
      ]
    },
    {
      "cell_type": "code",
      "execution_count": null,
      "id": "73a77718",
      "metadata": {
        "execution": {
          "iopub.execute_input": "2022-01-11T06:28:16.024800Z",
          "iopub.status.busy": "2022-01-11T06:28:16.024096Z",
          "iopub.status.idle": "2022-01-11T06:28:16.212061Z",
          "shell.execute_reply": "2022-01-11T06:28:16.211153Z",
          "shell.execute_reply.started": "2022-01-11T06:20:56.349151Z"
        },
        "papermill": {
          "duration": 0.270466,
          "end_time": "2022-01-11T06:28:16.212279",
          "exception": false,
          "start_time": "2022-01-11T06:28:15.941813",
          "status": "completed"
        },
        "tags": [],
        "colab": {
          "base_uri": "https://localhost:8080/"
        },
        "id": "73a77718",
        "outputId": "3d0f3834-8c33-481f-ba76-e5a300c1dce0"
      },
      "outputs": [
        {
          "output_type": "stream",
          "name": "stdout",
          "text": [
            "[nltk_data] Downloading package punkt to /root/nltk_data...\n",
            "[nltk_data]   Unzipping tokenizers/punkt.zip.\n"
          ]
        },
        {
          "output_type": "execute_result",
          "data": {
            "text/plain": [
              "True"
            ]
          },
          "metadata": {},
          "execution_count": 24
        }
      ],
      "source": [
        "nltk.download('punkt')"
      ]
    },
    {
      "cell_type": "code",
      "execution_count": null,
      "id": "e2549979",
      "metadata": {
        "execution": {
          "iopub.execute_input": "2022-01-11T06:28:16.355132Z",
          "iopub.status.busy": "2022-01-11T06:28:16.354441Z",
          "iopub.status.idle": "2022-01-11T06:28:16.360973Z",
          "shell.execute_reply": "2022-01-11T06:28:16.361472Z",
          "shell.execute_reply.started": "2022-01-11T06:20:56.687114Z"
        },
        "papermill": {
          "duration": 0.080448,
          "end_time": "2022-01-11T06:28:16.361666",
          "exception": false,
          "start_time": "2022-01-11T06:28:16.281218",
          "status": "completed"
        },
        "tags": [],
        "colab": {
          "base_uri": "https://localhost:8080/"
        },
        "id": "e2549979",
        "outputId": "3f3dc699-8581-4d25-e6c0-5028923b2f4e"
      },
      "outputs": [
        {
          "output_type": "stream",
          "name": "stderr",
          "text": [
            "/usr/local/lib/python3.7/dist-packages/ipykernel_launcher.py:2: SettingWithCopyWarning: \n",
            "A value is trying to be set on a copy of a slice from a DataFrame.\n",
            "Try using .loc[row_indexer,col_indexer] = value instead\n",
            "\n",
            "See the caveats in the documentation: https://pandas.pydata.org/pandas-docs/stable/user_guide/indexing.html#returning-a-view-versus-a-copy\n",
            "  \n"
          ]
        }
      ],
      "source": [
        "#counting number of characters\n",
        "df['num_characters'] = df['text'].apply(len)"
      ]
    },
    {
      "cell_type": "code",
      "execution_count": null,
      "id": "3bb3d1b8",
      "metadata": {
        "execution": {
          "iopub.execute_input": "2022-01-11T06:28:16.503750Z",
          "iopub.status.busy": "2022-01-11T06:28:16.503102Z",
          "iopub.status.idle": "2022-01-11T06:28:16.512869Z",
          "shell.execute_reply": "2022-01-11T06:28:16.512315Z",
          "shell.execute_reply.started": "2022-01-11T06:20:56.698082Z"
        },
        "papermill": {
          "duration": 0.082562,
          "end_time": "2022-01-11T06:28:16.513041",
          "exception": false,
          "start_time": "2022-01-11T06:28:16.430479",
          "status": "completed"
        },
        "tags": [],
        "colab": {
          "base_uri": "https://localhost:8080/",
          "height": 206
        },
        "id": "3bb3d1b8",
        "outputId": "0dd4354a-d219-4132-db7b-1c22c3417343"
      },
      "outputs": [
        {
          "output_type": "execute_result",
          "data": {
            "text/html": [
              "\n",
              "  <div id=\"df-07a97992-21e1-474b-b75f-2666b3384df2\">\n",
              "    <div class=\"colab-df-container\">\n",
              "      <div>\n",
              "<style scoped>\n",
              "    .dataframe tbody tr th:only-of-type {\n",
              "        vertical-align: middle;\n",
              "    }\n",
              "\n",
              "    .dataframe tbody tr th {\n",
              "        vertical-align: top;\n",
              "    }\n",
              "\n",
              "    .dataframe thead th {\n",
              "        text-align: right;\n",
              "    }\n",
              "</style>\n",
              "<table border=\"1\" class=\"dataframe\">\n",
              "  <thead>\n",
              "    <tr style=\"text-align: right;\">\n",
              "      <th></th>\n",
              "      <th>target</th>\n",
              "      <th>text</th>\n",
              "      <th>num_characters</th>\n",
              "    </tr>\n",
              "  </thead>\n",
              "  <tbody>\n",
              "    <tr>\n",
              "      <th>0</th>\n",
              "      <td>0</td>\n",
              "      <td>Go until jurong point, crazy.. Available only ...</td>\n",
              "      <td>111</td>\n",
              "    </tr>\n",
              "    <tr>\n",
              "      <th>1</th>\n",
              "      <td>0</td>\n",
              "      <td>Ok lar... Joking wif u oni...</td>\n",
              "      <td>29</td>\n",
              "    </tr>\n",
              "    <tr>\n",
              "      <th>2</th>\n",
              "      <td>1</td>\n",
              "      <td>Free entry in 2 a wkly comp to win FA Cup fina...</td>\n",
              "      <td>155</td>\n",
              "    </tr>\n",
              "    <tr>\n",
              "      <th>3</th>\n",
              "      <td>0</td>\n",
              "      <td>U dun say so early hor... U c already then say...</td>\n",
              "      <td>49</td>\n",
              "    </tr>\n",
              "    <tr>\n",
              "      <th>4</th>\n",
              "      <td>0</td>\n",
              "      <td>Nah I don't think he goes to usf, he lives aro...</td>\n",
              "      <td>61</td>\n",
              "    </tr>\n",
              "  </tbody>\n",
              "</table>\n",
              "</div>\n",
              "      <button class=\"colab-df-convert\" onclick=\"convertToInteractive('df-07a97992-21e1-474b-b75f-2666b3384df2')\"\n",
              "              title=\"Convert this dataframe to an interactive table.\"\n",
              "              style=\"display:none;\">\n",
              "        \n",
              "  <svg xmlns=\"http://www.w3.org/2000/svg\" height=\"24px\"viewBox=\"0 0 24 24\"\n",
              "       width=\"24px\">\n",
              "    <path d=\"M0 0h24v24H0V0z\" fill=\"none\"/>\n",
              "    <path d=\"M18.56 5.44l.94 2.06.94-2.06 2.06-.94-2.06-.94-.94-2.06-.94 2.06-2.06.94zm-11 1L8.5 8.5l.94-2.06 2.06-.94-2.06-.94L8.5 2.5l-.94 2.06-2.06.94zm10 10l.94 2.06.94-2.06 2.06-.94-2.06-.94-.94-2.06-.94 2.06-2.06.94z\"/><path d=\"M17.41 7.96l-1.37-1.37c-.4-.4-.92-.59-1.43-.59-.52 0-1.04.2-1.43.59L10.3 9.45l-7.72 7.72c-.78.78-.78 2.05 0 2.83L4 21.41c.39.39.9.59 1.41.59.51 0 1.02-.2 1.41-.59l7.78-7.78 2.81-2.81c.8-.78.8-2.07 0-2.86zM5.41 20L4 18.59l7.72-7.72 1.47 1.35L5.41 20z\"/>\n",
              "  </svg>\n",
              "      </button>\n",
              "      \n",
              "  <style>\n",
              "    .colab-df-container {\n",
              "      display:flex;\n",
              "      flex-wrap:wrap;\n",
              "      gap: 12px;\n",
              "    }\n",
              "\n",
              "    .colab-df-convert {\n",
              "      background-color: #E8F0FE;\n",
              "      border: none;\n",
              "      border-radius: 50%;\n",
              "      cursor: pointer;\n",
              "      display: none;\n",
              "      fill: #1967D2;\n",
              "      height: 32px;\n",
              "      padding: 0 0 0 0;\n",
              "      width: 32px;\n",
              "    }\n",
              "\n",
              "    .colab-df-convert:hover {\n",
              "      background-color: #E2EBFA;\n",
              "      box-shadow: 0px 1px 2px rgba(60, 64, 67, 0.3), 0px 1px 3px 1px rgba(60, 64, 67, 0.15);\n",
              "      fill: #174EA6;\n",
              "    }\n",
              "\n",
              "    [theme=dark] .colab-df-convert {\n",
              "      background-color: #3B4455;\n",
              "      fill: #D2E3FC;\n",
              "    }\n",
              "\n",
              "    [theme=dark] .colab-df-convert:hover {\n",
              "      background-color: #434B5C;\n",
              "      box-shadow: 0px 1px 3px 1px rgba(0, 0, 0, 0.15);\n",
              "      filter: drop-shadow(0px 1px 2px rgba(0, 0, 0, 0.3));\n",
              "      fill: #FFFFFF;\n",
              "    }\n",
              "  </style>\n",
              "\n",
              "      <script>\n",
              "        const buttonEl =\n",
              "          document.querySelector('#df-07a97992-21e1-474b-b75f-2666b3384df2 button.colab-df-convert');\n",
              "        buttonEl.style.display =\n",
              "          google.colab.kernel.accessAllowed ? 'block' : 'none';\n",
              "\n",
              "        async function convertToInteractive(key) {\n",
              "          const element = document.querySelector('#df-07a97992-21e1-474b-b75f-2666b3384df2');\n",
              "          const dataTable =\n",
              "            await google.colab.kernel.invokeFunction('convertToInteractive',\n",
              "                                                     [key], {});\n",
              "          if (!dataTable) return;\n",
              "\n",
              "          const docLinkHtml = 'Like what you see? Visit the ' +\n",
              "            '<a target=\"_blank\" href=https://colab.research.google.com/notebooks/data_table.ipynb>data table notebook</a>'\n",
              "            + ' to learn more about interactive tables.';\n",
              "          element.innerHTML = '';\n",
              "          dataTable['output_type'] = 'display_data';\n",
              "          await google.colab.output.renderOutput(dataTable, element);\n",
              "          const docLink = document.createElement('div');\n",
              "          docLink.innerHTML = docLinkHtml;\n",
              "          element.appendChild(docLink);\n",
              "        }\n",
              "      </script>\n",
              "    </div>\n",
              "  </div>\n",
              "  "
            ],
            "text/plain": [
              "   target                                               text  num_characters\n",
              "0       0  Go until jurong point, crazy.. Available only ...             111\n",
              "1       0                      Ok lar... Joking wif u oni...              29\n",
              "2       1  Free entry in 2 a wkly comp to win FA Cup fina...             155\n",
              "3       0  U dun say so early hor... U c already then say...              49\n",
              "4       0  Nah I don't think he goes to usf, he lives aro...              61"
            ]
          },
          "metadata": {},
          "execution_count": 26
        }
      ],
      "source": [
        "df.head()"
      ]
    },
    {
      "cell_type": "code",
      "execution_count": null,
      "id": "13faed48",
      "metadata": {
        "execution": {
          "iopub.execute_input": "2022-01-11T06:28:16.654939Z",
          "iopub.status.busy": "2022-01-11T06:28:16.654269Z",
          "iopub.status.idle": "2022-01-11T06:28:18.397572Z",
          "shell.execute_reply": "2022-01-11T06:28:18.398448Z",
          "shell.execute_reply.started": "2022-01-11T06:20:56.721964Z"
        },
        "papermill": {
          "duration": 1.816338,
          "end_time": "2022-01-11T06:28:18.398754",
          "exception": false,
          "start_time": "2022-01-11T06:28:16.582416",
          "status": "completed"
        },
        "tags": [],
        "colab": {
          "base_uri": "https://localhost:8080/"
        },
        "id": "13faed48",
        "outputId": "31922eed-edec-49f8-f3ba-6e8ccf322081"
      },
      "outputs": [
        {
          "output_type": "stream",
          "name": "stderr",
          "text": [
            "/usr/local/lib/python3.7/dist-packages/ipykernel_launcher.py:2: SettingWithCopyWarning: \n",
            "A value is trying to be set on a copy of a slice from a DataFrame.\n",
            "Try using .loc[row_indexer,col_indexer] = value instead\n",
            "\n",
            "See the caveats in the documentation: https://pandas.pydata.org/pandas-docs/stable/user_guide/indexing.html#returning-a-view-versus-a-copy\n",
            "  \n"
          ]
        }
      ],
      "source": [
        "#counting the number of words\n",
        "df['num_words'] = df['text'].apply(lambda x:len(nltk.word_tokenize(x)))"
      ]
    },
    {
      "cell_type": "code",
      "execution_count": null,
      "id": "8c3bb8c4",
      "metadata": {
        "execution": {
          "iopub.execute_input": "2022-01-11T06:28:18.541637Z",
          "iopub.status.busy": "2022-01-11T06:28:18.540671Z",
          "iopub.status.idle": "2022-01-11T06:28:18.550555Z",
          "shell.execute_reply": "2022-01-11T06:28:18.551051Z",
          "shell.execute_reply.started": "2022-01-11T06:20:58.345210Z"
        },
        "papermill": {
          "duration": 0.082177,
          "end_time": "2022-01-11T06:28:18.551225",
          "exception": false,
          "start_time": "2022-01-11T06:28:18.469048",
          "status": "completed"
        },
        "tags": [],
        "colab": {
          "base_uri": "https://localhost:8080/",
          "height": 206
        },
        "id": "8c3bb8c4",
        "outputId": "f1d605d0-4468-41de-981f-2a2b9ebe71aa"
      },
      "outputs": [
        {
          "output_type": "execute_result",
          "data": {
            "text/html": [
              "\n",
              "  <div id=\"df-c07ae5e2-9882-4a91-82fe-5fb212fb595b\">\n",
              "    <div class=\"colab-df-container\">\n",
              "      <div>\n",
              "<style scoped>\n",
              "    .dataframe tbody tr th:only-of-type {\n",
              "        vertical-align: middle;\n",
              "    }\n",
              "\n",
              "    .dataframe tbody tr th {\n",
              "        vertical-align: top;\n",
              "    }\n",
              "\n",
              "    .dataframe thead th {\n",
              "        text-align: right;\n",
              "    }\n",
              "</style>\n",
              "<table border=\"1\" class=\"dataframe\">\n",
              "  <thead>\n",
              "    <tr style=\"text-align: right;\">\n",
              "      <th></th>\n",
              "      <th>target</th>\n",
              "      <th>text</th>\n",
              "      <th>num_characters</th>\n",
              "      <th>num_words</th>\n",
              "    </tr>\n",
              "  </thead>\n",
              "  <tbody>\n",
              "    <tr>\n",
              "      <th>0</th>\n",
              "      <td>0</td>\n",
              "      <td>Go until jurong point, crazy.. Available only ...</td>\n",
              "      <td>111</td>\n",
              "      <td>23</td>\n",
              "    </tr>\n",
              "    <tr>\n",
              "      <th>1</th>\n",
              "      <td>0</td>\n",
              "      <td>Ok lar... Joking wif u oni...</td>\n",
              "      <td>29</td>\n",
              "      <td>8</td>\n",
              "    </tr>\n",
              "    <tr>\n",
              "      <th>2</th>\n",
              "      <td>1</td>\n",
              "      <td>Free entry in 2 a wkly comp to win FA Cup fina...</td>\n",
              "      <td>155</td>\n",
              "      <td>37</td>\n",
              "    </tr>\n",
              "    <tr>\n",
              "      <th>3</th>\n",
              "      <td>0</td>\n",
              "      <td>U dun say so early hor... U c already then say...</td>\n",
              "      <td>49</td>\n",
              "      <td>13</td>\n",
              "    </tr>\n",
              "    <tr>\n",
              "      <th>4</th>\n",
              "      <td>0</td>\n",
              "      <td>Nah I don't think he goes to usf, he lives aro...</td>\n",
              "      <td>61</td>\n",
              "      <td>15</td>\n",
              "    </tr>\n",
              "  </tbody>\n",
              "</table>\n",
              "</div>\n",
              "      <button class=\"colab-df-convert\" onclick=\"convertToInteractive('df-c07ae5e2-9882-4a91-82fe-5fb212fb595b')\"\n",
              "              title=\"Convert this dataframe to an interactive table.\"\n",
              "              style=\"display:none;\">\n",
              "        \n",
              "  <svg xmlns=\"http://www.w3.org/2000/svg\" height=\"24px\"viewBox=\"0 0 24 24\"\n",
              "       width=\"24px\">\n",
              "    <path d=\"M0 0h24v24H0V0z\" fill=\"none\"/>\n",
              "    <path d=\"M18.56 5.44l.94 2.06.94-2.06 2.06-.94-2.06-.94-.94-2.06-.94 2.06-2.06.94zm-11 1L8.5 8.5l.94-2.06 2.06-.94-2.06-.94L8.5 2.5l-.94 2.06-2.06.94zm10 10l.94 2.06.94-2.06 2.06-.94-2.06-.94-.94-2.06-.94 2.06-2.06.94z\"/><path d=\"M17.41 7.96l-1.37-1.37c-.4-.4-.92-.59-1.43-.59-.52 0-1.04.2-1.43.59L10.3 9.45l-7.72 7.72c-.78.78-.78 2.05 0 2.83L4 21.41c.39.39.9.59 1.41.59.51 0 1.02-.2 1.41-.59l7.78-7.78 2.81-2.81c.8-.78.8-2.07 0-2.86zM5.41 20L4 18.59l7.72-7.72 1.47 1.35L5.41 20z\"/>\n",
              "  </svg>\n",
              "      </button>\n",
              "      \n",
              "  <style>\n",
              "    .colab-df-container {\n",
              "      display:flex;\n",
              "      flex-wrap:wrap;\n",
              "      gap: 12px;\n",
              "    }\n",
              "\n",
              "    .colab-df-convert {\n",
              "      background-color: #E8F0FE;\n",
              "      border: none;\n",
              "      border-radius: 50%;\n",
              "      cursor: pointer;\n",
              "      display: none;\n",
              "      fill: #1967D2;\n",
              "      height: 32px;\n",
              "      padding: 0 0 0 0;\n",
              "      width: 32px;\n",
              "    }\n",
              "\n",
              "    .colab-df-convert:hover {\n",
              "      background-color: #E2EBFA;\n",
              "      box-shadow: 0px 1px 2px rgba(60, 64, 67, 0.3), 0px 1px 3px 1px rgba(60, 64, 67, 0.15);\n",
              "      fill: #174EA6;\n",
              "    }\n",
              "\n",
              "    [theme=dark] .colab-df-convert {\n",
              "      background-color: #3B4455;\n",
              "      fill: #D2E3FC;\n",
              "    }\n",
              "\n",
              "    [theme=dark] .colab-df-convert:hover {\n",
              "      background-color: #434B5C;\n",
              "      box-shadow: 0px 1px 3px 1px rgba(0, 0, 0, 0.15);\n",
              "      filter: drop-shadow(0px 1px 2px rgba(0, 0, 0, 0.3));\n",
              "      fill: #FFFFFF;\n",
              "    }\n",
              "  </style>\n",
              "\n",
              "      <script>\n",
              "        const buttonEl =\n",
              "          document.querySelector('#df-c07ae5e2-9882-4a91-82fe-5fb212fb595b button.colab-df-convert');\n",
              "        buttonEl.style.display =\n",
              "          google.colab.kernel.accessAllowed ? 'block' : 'none';\n",
              "\n",
              "        async function convertToInteractive(key) {\n",
              "          const element = document.querySelector('#df-c07ae5e2-9882-4a91-82fe-5fb212fb595b');\n",
              "          const dataTable =\n",
              "            await google.colab.kernel.invokeFunction('convertToInteractive',\n",
              "                                                     [key], {});\n",
              "          if (!dataTable) return;\n",
              "\n",
              "          const docLinkHtml = 'Like what you see? Visit the ' +\n",
              "            '<a target=\"_blank\" href=https://colab.research.google.com/notebooks/data_table.ipynb>data table notebook</a>'\n",
              "            + ' to learn more about interactive tables.';\n",
              "          element.innerHTML = '';\n",
              "          dataTable['output_type'] = 'display_data';\n",
              "          await google.colab.output.renderOutput(dataTable, element);\n",
              "          const docLink = document.createElement('div');\n",
              "          docLink.innerHTML = docLinkHtml;\n",
              "          element.appendChild(docLink);\n",
              "        }\n",
              "      </script>\n",
              "    </div>\n",
              "  </div>\n",
              "  "
            ],
            "text/plain": [
              "   target  ... num_words\n",
              "0       0  ...        23\n",
              "1       0  ...         8\n",
              "2       1  ...        37\n",
              "3       0  ...        13\n",
              "4       0  ...        15\n",
              "\n",
              "[5 rows x 4 columns]"
            ]
          },
          "metadata": {},
          "execution_count": 28
        }
      ],
      "source": [
        "df.head()"
      ]
    },
    {
      "cell_type": "code",
      "execution_count": null,
      "id": "420a34f1",
      "metadata": {
        "execution": {
          "iopub.execute_input": "2022-01-11T06:28:18.721606Z",
          "iopub.status.busy": "2022-01-11T06:28:18.706022Z",
          "iopub.status.idle": "2022-01-11T06:28:19.104227Z",
          "shell.execute_reply": "2022-01-11T06:28:19.104758Z",
          "shell.execute_reply.started": "2022-01-11T06:20:58.358389Z"
        },
        "papermill": {
          "duration": 0.484185,
          "end_time": "2022-01-11T06:28:19.104944",
          "exception": false,
          "start_time": "2022-01-11T06:28:18.620759",
          "status": "completed"
        },
        "tags": [],
        "colab": {
          "base_uri": "https://localhost:8080/"
        },
        "id": "420a34f1",
        "outputId": "c254a3a6-c245-4421-e99f-af30fb1de98a"
      },
      "outputs": [
        {
          "output_type": "stream",
          "name": "stderr",
          "text": [
            "/usr/local/lib/python3.7/dist-packages/ipykernel_launcher.py:2: SettingWithCopyWarning: \n",
            "A value is trying to be set on a copy of a slice from a DataFrame.\n",
            "Try using .loc[row_indexer,col_indexer] = value instead\n",
            "\n",
            "See the caveats in the documentation: https://pandas.pydata.org/pandas-docs/stable/user_guide/indexing.html#returning-a-view-versus-a-copy\n",
            "  \n"
          ]
        }
      ],
      "source": [
        "#counting the number of sentence \n",
        "df['num_sent'] = df['text'].apply(lambda x:len(nltk.sent_tokenize(x)))"
      ]
    },
    {
      "cell_type": "code",
      "execution_count": null,
      "id": "0da97f55",
      "metadata": {
        "execution": {
          "iopub.execute_input": "2022-01-11T06:28:19.248130Z",
          "iopub.status.busy": "2022-01-11T06:28:19.247209Z",
          "iopub.status.idle": "2022-01-11T06:28:19.257599Z",
          "shell.execute_reply": "2022-01-11T06:28:19.258063Z",
          "shell.execute_reply.started": "2022-01-11T06:20:58.750380Z"
        },
        "papermill": {
          "duration": 0.083944,
          "end_time": "2022-01-11T06:28:19.258247",
          "exception": false,
          "start_time": "2022-01-11T06:28:19.174303",
          "status": "completed"
        },
        "tags": [],
        "colab": {
          "base_uri": "https://localhost:8080/",
          "height": 206
        },
        "id": "0da97f55",
        "outputId": "851b6d0d-edf9-45be-c258-8e3f5243d5ab"
      },
      "outputs": [
        {
          "output_type": "execute_result",
          "data": {
            "text/html": [
              "\n",
              "  <div id=\"df-1993ae8a-387b-4531-b7a5-630663d6d20d\">\n",
              "    <div class=\"colab-df-container\">\n",
              "      <div>\n",
              "<style scoped>\n",
              "    .dataframe tbody tr th:only-of-type {\n",
              "        vertical-align: middle;\n",
              "    }\n",
              "\n",
              "    .dataframe tbody tr th {\n",
              "        vertical-align: top;\n",
              "    }\n",
              "\n",
              "    .dataframe thead th {\n",
              "        text-align: right;\n",
              "    }\n",
              "</style>\n",
              "<table border=\"1\" class=\"dataframe\">\n",
              "  <thead>\n",
              "    <tr style=\"text-align: right;\">\n",
              "      <th></th>\n",
              "      <th>target</th>\n",
              "      <th>text</th>\n",
              "      <th>num_characters</th>\n",
              "      <th>num_words</th>\n",
              "      <th>num_sent</th>\n",
              "    </tr>\n",
              "  </thead>\n",
              "  <tbody>\n",
              "    <tr>\n",
              "      <th>0</th>\n",
              "      <td>0</td>\n",
              "      <td>Go until jurong point, crazy.. Available only ...</td>\n",
              "      <td>111</td>\n",
              "      <td>23</td>\n",
              "      <td>2</td>\n",
              "    </tr>\n",
              "    <tr>\n",
              "      <th>1</th>\n",
              "      <td>0</td>\n",
              "      <td>Ok lar... Joking wif u oni...</td>\n",
              "      <td>29</td>\n",
              "      <td>8</td>\n",
              "      <td>2</td>\n",
              "    </tr>\n",
              "    <tr>\n",
              "      <th>2</th>\n",
              "      <td>1</td>\n",
              "      <td>Free entry in 2 a wkly comp to win FA Cup fina...</td>\n",
              "      <td>155</td>\n",
              "      <td>37</td>\n",
              "      <td>2</td>\n",
              "    </tr>\n",
              "    <tr>\n",
              "      <th>3</th>\n",
              "      <td>0</td>\n",
              "      <td>U dun say so early hor... U c already then say...</td>\n",
              "      <td>49</td>\n",
              "      <td>13</td>\n",
              "      <td>1</td>\n",
              "    </tr>\n",
              "    <tr>\n",
              "      <th>4</th>\n",
              "      <td>0</td>\n",
              "      <td>Nah I don't think he goes to usf, he lives aro...</td>\n",
              "      <td>61</td>\n",
              "      <td>15</td>\n",
              "      <td>1</td>\n",
              "    </tr>\n",
              "  </tbody>\n",
              "</table>\n",
              "</div>\n",
              "      <button class=\"colab-df-convert\" onclick=\"convertToInteractive('df-1993ae8a-387b-4531-b7a5-630663d6d20d')\"\n",
              "              title=\"Convert this dataframe to an interactive table.\"\n",
              "              style=\"display:none;\">\n",
              "        \n",
              "  <svg xmlns=\"http://www.w3.org/2000/svg\" height=\"24px\"viewBox=\"0 0 24 24\"\n",
              "       width=\"24px\">\n",
              "    <path d=\"M0 0h24v24H0V0z\" fill=\"none\"/>\n",
              "    <path d=\"M18.56 5.44l.94 2.06.94-2.06 2.06-.94-2.06-.94-.94-2.06-.94 2.06-2.06.94zm-11 1L8.5 8.5l.94-2.06 2.06-.94-2.06-.94L8.5 2.5l-.94 2.06-2.06.94zm10 10l.94 2.06.94-2.06 2.06-.94-2.06-.94-.94-2.06-.94 2.06-2.06.94z\"/><path d=\"M17.41 7.96l-1.37-1.37c-.4-.4-.92-.59-1.43-.59-.52 0-1.04.2-1.43.59L10.3 9.45l-7.72 7.72c-.78.78-.78 2.05 0 2.83L4 21.41c.39.39.9.59 1.41.59.51 0 1.02-.2 1.41-.59l7.78-7.78 2.81-2.81c.8-.78.8-2.07 0-2.86zM5.41 20L4 18.59l7.72-7.72 1.47 1.35L5.41 20z\"/>\n",
              "  </svg>\n",
              "      </button>\n",
              "      \n",
              "  <style>\n",
              "    .colab-df-container {\n",
              "      display:flex;\n",
              "      flex-wrap:wrap;\n",
              "      gap: 12px;\n",
              "    }\n",
              "\n",
              "    .colab-df-convert {\n",
              "      background-color: #E8F0FE;\n",
              "      border: none;\n",
              "      border-radius: 50%;\n",
              "      cursor: pointer;\n",
              "      display: none;\n",
              "      fill: #1967D2;\n",
              "      height: 32px;\n",
              "      padding: 0 0 0 0;\n",
              "      width: 32px;\n",
              "    }\n",
              "\n",
              "    .colab-df-convert:hover {\n",
              "      background-color: #E2EBFA;\n",
              "      box-shadow: 0px 1px 2px rgba(60, 64, 67, 0.3), 0px 1px 3px 1px rgba(60, 64, 67, 0.15);\n",
              "      fill: #174EA6;\n",
              "    }\n",
              "\n",
              "    [theme=dark] .colab-df-convert {\n",
              "      background-color: #3B4455;\n",
              "      fill: #D2E3FC;\n",
              "    }\n",
              "\n",
              "    [theme=dark] .colab-df-convert:hover {\n",
              "      background-color: #434B5C;\n",
              "      box-shadow: 0px 1px 3px 1px rgba(0, 0, 0, 0.15);\n",
              "      filter: drop-shadow(0px 1px 2px rgba(0, 0, 0, 0.3));\n",
              "      fill: #FFFFFF;\n",
              "    }\n",
              "  </style>\n",
              "\n",
              "      <script>\n",
              "        const buttonEl =\n",
              "          document.querySelector('#df-1993ae8a-387b-4531-b7a5-630663d6d20d button.colab-df-convert');\n",
              "        buttonEl.style.display =\n",
              "          google.colab.kernel.accessAllowed ? 'block' : 'none';\n",
              "\n",
              "        async function convertToInteractive(key) {\n",
              "          const element = document.querySelector('#df-1993ae8a-387b-4531-b7a5-630663d6d20d');\n",
              "          const dataTable =\n",
              "            await google.colab.kernel.invokeFunction('convertToInteractive',\n",
              "                                                     [key], {});\n",
              "          if (!dataTable) return;\n",
              "\n",
              "          const docLinkHtml = 'Like what you see? Visit the ' +\n",
              "            '<a target=\"_blank\" href=https://colab.research.google.com/notebooks/data_table.ipynb>data table notebook</a>'\n",
              "            + ' to learn more about interactive tables.';\n",
              "          element.innerHTML = '';\n",
              "          dataTable['output_type'] = 'display_data';\n",
              "          await google.colab.output.renderOutput(dataTable, element);\n",
              "          const docLink = document.createElement('div');\n",
              "          docLink.innerHTML = docLinkHtml;\n",
              "          element.appendChild(docLink);\n",
              "        }\n",
              "      </script>\n",
              "    </div>\n",
              "  </div>\n",
              "  "
            ],
            "text/plain": [
              "   target  ... num_sent\n",
              "0       0  ...        2\n",
              "1       0  ...        2\n",
              "2       1  ...        2\n",
              "3       0  ...        1\n",
              "4       0  ...        1\n",
              "\n",
              "[5 rows x 5 columns]"
            ]
          },
          "metadata": {},
          "execution_count": 30
        }
      ],
      "source": [
        "df.head()"
      ]
    },
    {
      "cell_type": "code",
      "execution_count": null,
      "id": "f411bee4",
      "metadata": {
        "execution": {
          "iopub.execute_input": "2022-01-11T06:28:19.402043Z",
          "iopub.status.busy": "2022-01-11T06:28:19.401133Z",
          "iopub.status.idle": "2022-01-11T06:28:19.423929Z",
          "shell.execute_reply": "2022-01-11T06:28:19.423354Z",
          "shell.execute_reply.started": "2022-01-11T06:20:58.764327Z"
        },
        "papermill": {
          "duration": 0.096136,
          "end_time": "2022-01-11T06:28:19.424084",
          "exception": false,
          "start_time": "2022-01-11T06:28:19.327948",
          "status": "completed"
        },
        "tags": [],
        "colab": {
          "base_uri": "https://localhost:8080/",
          "height": 300
        },
        "id": "f411bee4",
        "outputId": "2d2d3164-7c14-49d1-96c8-f0a5743b70c5"
      },
      "outputs": [
        {
          "output_type": "execute_result",
          "data": {
            "text/html": [
              "\n",
              "  <div id=\"df-82c7fd08-87a4-428d-a453-0263fb11fa54\">\n",
              "    <div class=\"colab-df-container\">\n",
              "      <div>\n",
              "<style scoped>\n",
              "    .dataframe tbody tr th:only-of-type {\n",
              "        vertical-align: middle;\n",
              "    }\n",
              "\n",
              "    .dataframe tbody tr th {\n",
              "        vertical-align: top;\n",
              "    }\n",
              "\n",
              "    .dataframe thead th {\n",
              "        text-align: right;\n",
              "    }\n",
              "</style>\n",
              "<table border=\"1\" class=\"dataframe\">\n",
              "  <thead>\n",
              "    <tr style=\"text-align: right;\">\n",
              "      <th></th>\n",
              "      <th>num_characters</th>\n",
              "      <th>num_words</th>\n",
              "      <th>num_sent</th>\n",
              "    </tr>\n",
              "  </thead>\n",
              "  <tbody>\n",
              "    <tr>\n",
              "      <th>count</th>\n",
              "      <td>5169.000000</td>\n",
              "      <td>5169.000000</td>\n",
              "      <td>5169.000000</td>\n",
              "    </tr>\n",
              "    <tr>\n",
              "      <th>mean</th>\n",
              "      <td>78.977945</td>\n",
              "      <td>18.286129</td>\n",
              "      <td>1.961308</td>\n",
              "    </tr>\n",
              "    <tr>\n",
              "      <th>std</th>\n",
              "      <td>58.236293</td>\n",
              "      <td>13.226400</td>\n",
              "      <td>1.432583</td>\n",
              "    </tr>\n",
              "    <tr>\n",
              "      <th>min</th>\n",
              "      <td>2.000000</td>\n",
              "      <td>1.000000</td>\n",
              "      <td>1.000000</td>\n",
              "    </tr>\n",
              "    <tr>\n",
              "      <th>25%</th>\n",
              "      <td>36.000000</td>\n",
              "      <td>9.000000</td>\n",
              "      <td>1.000000</td>\n",
              "    </tr>\n",
              "    <tr>\n",
              "      <th>50%</th>\n",
              "      <td>60.000000</td>\n",
              "      <td>15.000000</td>\n",
              "      <td>1.000000</td>\n",
              "    </tr>\n",
              "    <tr>\n",
              "      <th>75%</th>\n",
              "      <td>117.000000</td>\n",
              "      <td>26.000000</td>\n",
              "      <td>2.000000</td>\n",
              "    </tr>\n",
              "    <tr>\n",
              "      <th>max</th>\n",
              "      <td>910.000000</td>\n",
              "      <td>219.000000</td>\n",
              "      <td>38.000000</td>\n",
              "    </tr>\n",
              "  </tbody>\n",
              "</table>\n",
              "</div>\n",
              "      <button class=\"colab-df-convert\" onclick=\"convertToInteractive('df-82c7fd08-87a4-428d-a453-0263fb11fa54')\"\n",
              "              title=\"Convert this dataframe to an interactive table.\"\n",
              "              style=\"display:none;\">\n",
              "        \n",
              "  <svg xmlns=\"http://www.w3.org/2000/svg\" height=\"24px\"viewBox=\"0 0 24 24\"\n",
              "       width=\"24px\">\n",
              "    <path d=\"M0 0h24v24H0V0z\" fill=\"none\"/>\n",
              "    <path d=\"M18.56 5.44l.94 2.06.94-2.06 2.06-.94-2.06-.94-.94-2.06-.94 2.06-2.06.94zm-11 1L8.5 8.5l.94-2.06 2.06-.94-2.06-.94L8.5 2.5l-.94 2.06-2.06.94zm10 10l.94 2.06.94-2.06 2.06-.94-2.06-.94-.94-2.06-.94 2.06-2.06.94z\"/><path d=\"M17.41 7.96l-1.37-1.37c-.4-.4-.92-.59-1.43-.59-.52 0-1.04.2-1.43.59L10.3 9.45l-7.72 7.72c-.78.78-.78 2.05 0 2.83L4 21.41c.39.39.9.59 1.41.59.51 0 1.02-.2 1.41-.59l7.78-7.78 2.81-2.81c.8-.78.8-2.07 0-2.86zM5.41 20L4 18.59l7.72-7.72 1.47 1.35L5.41 20z\"/>\n",
              "  </svg>\n",
              "      </button>\n",
              "      \n",
              "  <style>\n",
              "    .colab-df-container {\n",
              "      display:flex;\n",
              "      flex-wrap:wrap;\n",
              "      gap: 12px;\n",
              "    }\n",
              "\n",
              "    .colab-df-convert {\n",
              "      background-color: #E8F0FE;\n",
              "      border: none;\n",
              "      border-radius: 50%;\n",
              "      cursor: pointer;\n",
              "      display: none;\n",
              "      fill: #1967D2;\n",
              "      height: 32px;\n",
              "      padding: 0 0 0 0;\n",
              "      width: 32px;\n",
              "    }\n",
              "\n",
              "    .colab-df-convert:hover {\n",
              "      background-color: #E2EBFA;\n",
              "      box-shadow: 0px 1px 2px rgba(60, 64, 67, 0.3), 0px 1px 3px 1px rgba(60, 64, 67, 0.15);\n",
              "      fill: #174EA6;\n",
              "    }\n",
              "\n",
              "    [theme=dark] .colab-df-convert {\n",
              "      background-color: #3B4455;\n",
              "      fill: #D2E3FC;\n",
              "    }\n",
              "\n",
              "    [theme=dark] .colab-df-convert:hover {\n",
              "      background-color: #434B5C;\n",
              "      box-shadow: 0px 1px 3px 1px rgba(0, 0, 0, 0.15);\n",
              "      filter: drop-shadow(0px 1px 2px rgba(0, 0, 0, 0.3));\n",
              "      fill: #FFFFFF;\n",
              "    }\n",
              "  </style>\n",
              "\n",
              "      <script>\n",
              "        const buttonEl =\n",
              "          document.querySelector('#df-82c7fd08-87a4-428d-a453-0263fb11fa54 button.colab-df-convert');\n",
              "        buttonEl.style.display =\n",
              "          google.colab.kernel.accessAllowed ? 'block' : 'none';\n",
              "\n",
              "        async function convertToInteractive(key) {\n",
              "          const element = document.querySelector('#df-82c7fd08-87a4-428d-a453-0263fb11fa54');\n",
              "          const dataTable =\n",
              "            await google.colab.kernel.invokeFunction('convertToInteractive',\n",
              "                                                     [key], {});\n",
              "          if (!dataTable) return;\n",
              "\n",
              "          const docLinkHtml = 'Like what you see? Visit the ' +\n",
              "            '<a target=\"_blank\" href=https://colab.research.google.com/notebooks/data_table.ipynb>data table notebook</a>'\n",
              "            + ' to learn more about interactive tables.';\n",
              "          element.innerHTML = '';\n",
              "          dataTable['output_type'] = 'display_data';\n",
              "          await google.colab.output.renderOutput(dataTable, element);\n",
              "          const docLink = document.createElement('div');\n",
              "          docLink.innerHTML = docLinkHtml;\n",
              "          element.appendChild(docLink);\n",
              "        }\n",
              "      </script>\n",
              "    </div>\n",
              "  </div>\n",
              "  "
            ],
            "text/plain": [
              "       num_characters    num_words     num_sent\n",
              "count     5169.000000  5169.000000  5169.000000\n",
              "mean        78.977945    18.286129     1.961308\n",
              "std         58.236293    13.226400     1.432583\n",
              "min          2.000000     1.000000     1.000000\n",
              "25%         36.000000     9.000000     1.000000\n",
              "50%         60.000000    15.000000     1.000000\n",
              "75%        117.000000    26.000000     2.000000\n",
              "max        910.000000   219.000000    38.000000"
            ]
          },
          "metadata": {},
          "execution_count": 31
        }
      ],
      "source": [
        "df[[\"num_characters\",\"num_words\",\"num_sent\"]].describe()"
      ]
    },
    {
      "cell_type": "code",
      "execution_count": null,
      "id": "dfbcf360",
      "metadata": {
        "execution": {
          "iopub.execute_input": "2022-01-11T06:28:19.574298Z",
          "iopub.status.busy": "2022-01-11T06:28:19.570436Z",
          "iopub.status.idle": "2022-01-11T06:28:19.591593Z",
          "shell.execute_reply": "2022-01-11T06:28:19.592118Z",
          "shell.execute_reply.started": "2022-01-11T06:20:58.797164Z"
        },
        "papermill": {
          "duration": 0.097536,
          "end_time": "2022-01-11T06:28:19.592291",
          "exception": false,
          "start_time": "2022-01-11T06:28:19.494755",
          "status": "completed"
        },
        "tags": [],
        "colab": {
          "base_uri": "https://localhost:8080/",
          "height": 300
        },
        "id": "dfbcf360",
        "outputId": "c0ad2c34-7f11-43a3-825e-9cdf6a333b52"
      },
      "outputs": [
        {
          "output_type": "execute_result",
          "data": {
            "text/html": [
              "\n",
              "  <div id=\"df-2c33a72e-6239-4b10-98fc-94c99c743089\">\n",
              "    <div class=\"colab-df-container\">\n",
              "      <div>\n",
              "<style scoped>\n",
              "    .dataframe tbody tr th:only-of-type {\n",
              "        vertical-align: middle;\n",
              "    }\n",
              "\n",
              "    .dataframe tbody tr th {\n",
              "        vertical-align: top;\n",
              "    }\n",
              "\n",
              "    .dataframe thead th {\n",
              "        text-align: right;\n",
              "    }\n",
              "</style>\n",
              "<table border=\"1\" class=\"dataframe\">\n",
              "  <thead>\n",
              "    <tr style=\"text-align: right;\">\n",
              "      <th></th>\n",
              "      <th>num_characters</th>\n",
              "      <th>num_words</th>\n",
              "      <th>num_sent</th>\n",
              "    </tr>\n",
              "  </thead>\n",
              "  <tbody>\n",
              "    <tr>\n",
              "      <th>count</th>\n",
              "      <td>4516.000000</td>\n",
              "      <td>4516.000000</td>\n",
              "      <td>4516.000000</td>\n",
              "    </tr>\n",
              "    <tr>\n",
              "      <th>mean</th>\n",
              "      <td>70.459256</td>\n",
              "      <td>16.957484</td>\n",
              "      <td>1.815545</td>\n",
              "    </tr>\n",
              "    <tr>\n",
              "      <th>std</th>\n",
              "      <td>56.358207</td>\n",
              "      <td>13.394052</td>\n",
              "      <td>1.364098</td>\n",
              "    </tr>\n",
              "    <tr>\n",
              "      <th>min</th>\n",
              "      <td>2.000000</td>\n",
              "      <td>1.000000</td>\n",
              "      <td>1.000000</td>\n",
              "    </tr>\n",
              "    <tr>\n",
              "      <th>25%</th>\n",
              "      <td>34.000000</td>\n",
              "      <td>8.000000</td>\n",
              "      <td>1.000000</td>\n",
              "    </tr>\n",
              "    <tr>\n",
              "      <th>50%</th>\n",
              "      <td>52.000000</td>\n",
              "      <td>13.000000</td>\n",
              "      <td>1.000000</td>\n",
              "    </tr>\n",
              "    <tr>\n",
              "      <th>75%</th>\n",
              "      <td>90.000000</td>\n",
              "      <td>22.000000</td>\n",
              "      <td>2.000000</td>\n",
              "    </tr>\n",
              "    <tr>\n",
              "      <th>max</th>\n",
              "      <td>910.000000</td>\n",
              "      <td>219.000000</td>\n",
              "      <td>38.000000</td>\n",
              "    </tr>\n",
              "  </tbody>\n",
              "</table>\n",
              "</div>\n",
              "      <button class=\"colab-df-convert\" onclick=\"convertToInteractive('df-2c33a72e-6239-4b10-98fc-94c99c743089')\"\n",
              "              title=\"Convert this dataframe to an interactive table.\"\n",
              "              style=\"display:none;\">\n",
              "        \n",
              "  <svg xmlns=\"http://www.w3.org/2000/svg\" height=\"24px\"viewBox=\"0 0 24 24\"\n",
              "       width=\"24px\">\n",
              "    <path d=\"M0 0h24v24H0V0z\" fill=\"none\"/>\n",
              "    <path d=\"M18.56 5.44l.94 2.06.94-2.06 2.06-.94-2.06-.94-.94-2.06-.94 2.06-2.06.94zm-11 1L8.5 8.5l.94-2.06 2.06-.94-2.06-.94L8.5 2.5l-.94 2.06-2.06.94zm10 10l.94 2.06.94-2.06 2.06-.94-2.06-.94-.94-2.06-.94 2.06-2.06.94z\"/><path d=\"M17.41 7.96l-1.37-1.37c-.4-.4-.92-.59-1.43-.59-.52 0-1.04.2-1.43.59L10.3 9.45l-7.72 7.72c-.78.78-.78 2.05 0 2.83L4 21.41c.39.39.9.59 1.41.59.51 0 1.02-.2 1.41-.59l7.78-7.78 2.81-2.81c.8-.78.8-2.07 0-2.86zM5.41 20L4 18.59l7.72-7.72 1.47 1.35L5.41 20z\"/>\n",
              "  </svg>\n",
              "      </button>\n",
              "      \n",
              "  <style>\n",
              "    .colab-df-container {\n",
              "      display:flex;\n",
              "      flex-wrap:wrap;\n",
              "      gap: 12px;\n",
              "    }\n",
              "\n",
              "    .colab-df-convert {\n",
              "      background-color: #E8F0FE;\n",
              "      border: none;\n",
              "      border-radius: 50%;\n",
              "      cursor: pointer;\n",
              "      display: none;\n",
              "      fill: #1967D2;\n",
              "      height: 32px;\n",
              "      padding: 0 0 0 0;\n",
              "      width: 32px;\n",
              "    }\n",
              "\n",
              "    .colab-df-convert:hover {\n",
              "      background-color: #E2EBFA;\n",
              "      box-shadow: 0px 1px 2px rgba(60, 64, 67, 0.3), 0px 1px 3px 1px rgba(60, 64, 67, 0.15);\n",
              "      fill: #174EA6;\n",
              "    }\n",
              "\n",
              "    [theme=dark] .colab-df-convert {\n",
              "      background-color: #3B4455;\n",
              "      fill: #D2E3FC;\n",
              "    }\n",
              "\n",
              "    [theme=dark] .colab-df-convert:hover {\n",
              "      background-color: #434B5C;\n",
              "      box-shadow: 0px 1px 3px 1px rgba(0, 0, 0, 0.15);\n",
              "      filter: drop-shadow(0px 1px 2px rgba(0, 0, 0, 0.3));\n",
              "      fill: #FFFFFF;\n",
              "    }\n",
              "  </style>\n",
              "\n",
              "      <script>\n",
              "        const buttonEl =\n",
              "          document.querySelector('#df-2c33a72e-6239-4b10-98fc-94c99c743089 button.colab-df-convert');\n",
              "        buttonEl.style.display =\n",
              "          google.colab.kernel.accessAllowed ? 'block' : 'none';\n",
              "\n",
              "        async function convertToInteractive(key) {\n",
              "          const element = document.querySelector('#df-2c33a72e-6239-4b10-98fc-94c99c743089');\n",
              "          const dataTable =\n",
              "            await google.colab.kernel.invokeFunction('convertToInteractive',\n",
              "                                                     [key], {});\n",
              "          if (!dataTable) return;\n",
              "\n",
              "          const docLinkHtml = 'Like what you see? Visit the ' +\n",
              "            '<a target=\"_blank\" href=https://colab.research.google.com/notebooks/data_table.ipynb>data table notebook</a>'\n",
              "            + ' to learn more about interactive tables.';\n",
              "          element.innerHTML = '';\n",
              "          dataTable['output_type'] = 'display_data';\n",
              "          await google.colab.output.renderOutput(dataTable, element);\n",
              "          const docLink = document.createElement('div');\n",
              "          docLink.innerHTML = docLinkHtml;\n",
              "          element.appendChild(docLink);\n",
              "        }\n",
              "      </script>\n",
              "    </div>\n",
              "  </div>\n",
              "  "
            ],
            "text/plain": [
              "       num_characters    num_words     num_sent\n",
              "count     4516.000000  4516.000000  4516.000000\n",
              "mean        70.459256    16.957484     1.815545\n",
              "std         56.358207    13.394052     1.364098\n",
              "min          2.000000     1.000000     1.000000\n",
              "25%         34.000000     8.000000     1.000000\n",
              "50%         52.000000    13.000000     1.000000\n",
              "75%         90.000000    22.000000     2.000000\n",
              "max        910.000000   219.000000    38.000000"
            ]
          },
          "metadata": {},
          "execution_count": 32
        }
      ],
      "source": [
        "#describe for ham messages\n",
        "df[df['target'] == 0][[\"num_characters\",\"num_words\",\"num_sent\"]].describe()"
      ]
    },
    {
      "cell_type": "code",
      "execution_count": null,
      "id": "efa72500",
      "metadata": {
        "execution": {
          "iopub.execute_input": "2022-01-11T06:28:19.743588Z",
          "iopub.status.busy": "2022-01-11T06:28:19.742462Z",
          "iopub.status.idle": "2022-01-11T06:28:19.766030Z",
          "shell.execute_reply": "2022-01-11T06:28:19.766643Z",
          "shell.execute_reply.started": "2022-01-11T06:20:58.823554Z"
        },
        "papermill": {
          "duration": 0.103762,
          "end_time": "2022-01-11T06:28:19.766907",
          "exception": false,
          "start_time": "2022-01-11T06:28:19.663145",
          "status": "completed"
        },
        "tags": [],
        "colab": {
          "base_uri": "https://localhost:8080/",
          "height": 300
        },
        "id": "efa72500",
        "outputId": "665eeaf7-d462-4f97-8de8-9ceb6e7accf0"
      },
      "outputs": [
        {
          "output_type": "execute_result",
          "data": {
            "text/html": [
              "\n",
              "  <div id=\"df-e85892b7-7b60-4732-86ef-d80efdf7bb97\">\n",
              "    <div class=\"colab-df-container\">\n",
              "      <div>\n",
              "<style scoped>\n",
              "    .dataframe tbody tr th:only-of-type {\n",
              "        vertical-align: middle;\n",
              "    }\n",
              "\n",
              "    .dataframe tbody tr th {\n",
              "        vertical-align: top;\n",
              "    }\n",
              "\n",
              "    .dataframe thead th {\n",
              "        text-align: right;\n",
              "    }\n",
              "</style>\n",
              "<table border=\"1\" class=\"dataframe\">\n",
              "  <thead>\n",
              "    <tr style=\"text-align: right;\">\n",
              "      <th></th>\n",
              "      <th>num_characters</th>\n",
              "      <th>num_words</th>\n",
              "      <th>num_sent</th>\n",
              "    </tr>\n",
              "  </thead>\n",
              "  <tbody>\n",
              "    <tr>\n",
              "      <th>count</th>\n",
              "      <td>653.000000</td>\n",
              "      <td>653.000000</td>\n",
              "      <td>653.000000</td>\n",
              "    </tr>\n",
              "    <tr>\n",
              "      <th>mean</th>\n",
              "      <td>137.891271</td>\n",
              "      <td>27.474732</td>\n",
              "      <td>2.969372</td>\n",
              "    </tr>\n",
              "    <tr>\n",
              "      <th>std</th>\n",
              "      <td>30.137753</td>\n",
              "      <td>6.893007</td>\n",
              "      <td>1.488910</td>\n",
              "    </tr>\n",
              "    <tr>\n",
              "      <th>min</th>\n",
              "      <td>13.000000</td>\n",
              "      <td>2.000000</td>\n",
              "      <td>1.000000</td>\n",
              "    </tr>\n",
              "    <tr>\n",
              "      <th>25%</th>\n",
              "      <td>132.000000</td>\n",
              "      <td>25.000000</td>\n",
              "      <td>2.000000</td>\n",
              "    </tr>\n",
              "    <tr>\n",
              "      <th>50%</th>\n",
              "      <td>149.000000</td>\n",
              "      <td>29.000000</td>\n",
              "      <td>3.000000</td>\n",
              "    </tr>\n",
              "    <tr>\n",
              "      <th>75%</th>\n",
              "      <td>157.000000</td>\n",
              "      <td>32.000000</td>\n",
              "      <td>4.000000</td>\n",
              "    </tr>\n",
              "    <tr>\n",
              "      <th>max</th>\n",
              "      <td>224.000000</td>\n",
              "      <td>44.000000</td>\n",
              "      <td>9.000000</td>\n",
              "    </tr>\n",
              "  </tbody>\n",
              "</table>\n",
              "</div>\n",
              "      <button class=\"colab-df-convert\" onclick=\"convertToInteractive('df-e85892b7-7b60-4732-86ef-d80efdf7bb97')\"\n",
              "              title=\"Convert this dataframe to an interactive table.\"\n",
              "              style=\"display:none;\">\n",
              "        \n",
              "  <svg xmlns=\"http://www.w3.org/2000/svg\" height=\"24px\"viewBox=\"0 0 24 24\"\n",
              "       width=\"24px\">\n",
              "    <path d=\"M0 0h24v24H0V0z\" fill=\"none\"/>\n",
              "    <path d=\"M18.56 5.44l.94 2.06.94-2.06 2.06-.94-2.06-.94-.94-2.06-.94 2.06-2.06.94zm-11 1L8.5 8.5l.94-2.06 2.06-.94-2.06-.94L8.5 2.5l-.94 2.06-2.06.94zm10 10l.94 2.06.94-2.06 2.06-.94-2.06-.94-.94-2.06-.94 2.06-2.06.94z\"/><path d=\"M17.41 7.96l-1.37-1.37c-.4-.4-.92-.59-1.43-.59-.52 0-1.04.2-1.43.59L10.3 9.45l-7.72 7.72c-.78.78-.78 2.05 0 2.83L4 21.41c.39.39.9.59 1.41.59.51 0 1.02-.2 1.41-.59l7.78-7.78 2.81-2.81c.8-.78.8-2.07 0-2.86zM5.41 20L4 18.59l7.72-7.72 1.47 1.35L5.41 20z\"/>\n",
              "  </svg>\n",
              "      </button>\n",
              "      \n",
              "  <style>\n",
              "    .colab-df-container {\n",
              "      display:flex;\n",
              "      flex-wrap:wrap;\n",
              "      gap: 12px;\n",
              "    }\n",
              "\n",
              "    .colab-df-convert {\n",
              "      background-color: #E8F0FE;\n",
              "      border: none;\n",
              "      border-radius: 50%;\n",
              "      cursor: pointer;\n",
              "      display: none;\n",
              "      fill: #1967D2;\n",
              "      height: 32px;\n",
              "      padding: 0 0 0 0;\n",
              "      width: 32px;\n",
              "    }\n",
              "\n",
              "    .colab-df-convert:hover {\n",
              "      background-color: #E2EBFA;\n",
              "      box-shadow: 0px 1px 2px rgba(60, 64, 67, 0.3), 0px 1px 3px 1px rgba(60, 64, 67, 0.15);\n",
              "      fill: #174EA6;\n",
              "    }\n",
              "\n",
              "    [theme=dark] .colab-df-convert {\n",
              "      background-color: #3B4455;\n",
              "      fill: #D2E3FC;\n",
              "    }\n",
              "\n",
              "    [theme=dark] .colab-df-convert:hover {\n",
              "      background-color: #434B5C;\n",
              "      box-shadow: 0px 1px 3px 1px rgba(0, 0, 0, 0.15);\n",
              "      filter: drop-shadow(0px 1px 2px rgba(0, 0, 0, 0.3));\n",
              "      fill: #FFFFFF;\n",
              "    }\n",
              "  </style>\n",
              "\n",
              "      <script>\n",
              "        const buttonEl =\n",
              "          document.querySelector('#df-e85892b7-7b60-4732-86ef-d80efdf7bb97 button.colab-df-convert');\n",
              "        buttonEl.style.display =\n",
              "          google.colab.kernel.accessAllowed ? 'block' : 'none';\n",
              "\n",
              "        async function convertToInteractive(key) {\n",
              "          const element = document.querySelector('#df-e85892b7-7b60-4732-86ef-d80efdf7bb97');\n",
              "          const dataTable =\n",
              "            await google.colab.kernel.invokeFunction('convertToInteractive',\n",
              "                                                     [key], {});\n",
              "          if (!dataTable) return;\n",
              "\n",
              "          const docLinkHtml = 'Like what you see? Visit the ' +\n",
              "            '<a target=\"_blank\" href=https://colab.research.google.com/notebooks/data_table.ipynb>data table notebook</a>'\n",
              "            + ' to learn more about interactive tables.';\n",
              "          element.innerHTML = '';\n",
              "          dataTable['output_type'] = 'display_data';\n",
              "          await google.colab.output.renderOutput(dataTable, element);\n",
              "          const docLink = document.createElement('div');\n",
              "          docLink.innerHTML = docLinkHtml;\n",
              "          element.appendChild(docLink);\n",
              "        }\n",
              "      </script>\n",
              "    </div>\n",
              "  </div>\n",
              "  "
            ],
            "text/plain": [
              "       num_characters   num_words    num_sent\n",
              "count      653.000000  653.000000  653.000000\n",
              "mean       137.891271   27.474732    2.969372\n",
              "std         30.137753    6.893007    1.488910\n",
              "min         13.000000    2.000000    1.000000\n",
              "25%        132.000000   25.000000    2.000000\n",
              "50%        149.000000   29.000000    3.000000\n",
              "75%        157.000000   32.000000    4.000000\n",
              "max        224.000000   44.000000    9.000000"
            ]
          },
          "metadata": {},
          "execution_count": 33
        }
      ],
      "source": [
        "#describe for spam messages\n",
        "df[df['target'] == 1][[\"num_characters\",\"num_words\",\"num_sent\"]].describe()"
      ]
    },
    {
      "cell_type": "code",
      "execution_count": null,
      "id": "2224bb8f",
      "metadata": {
        "execution": {
          "iopub.execute_input": "2022-01-11T06:28:19.940624Z",
          "iopub.status.busy": "2022-01-11T06:28:19.939968Z",
          "iopub.status.idle": "2022-01-11T06:28:20.088758Z",
          "shell.execute_reply": "2022-01-11T06:28:20.088158Z",
          "shell.execute_reply.started": "2022-01-11T06:20:58.847714Z"
        },
        "papermill": {
          "duration": 0.227913,
          "end_time": "2022-01-11T06:28:20.088948",
          "exception": false,
          "start_time": "2022-01-11T06:28:19.861035",
          "status": "completed"
        },
        "tags": [],
        "id": "2224bb8f"
      },
      "outputs": [],
      "source": [
        "import seaborn as sns"
      ]
    },
    {
      "cell_type": "code",
      "execution_count": null,
      "id": "82f6b910",
      "metadata": {
        "execution": {
          "iopub.execute_input": "2022-01-11T06:28:20.236937Z",
          "iopub.status.busy": "2022-01-11T06:28:20.236228Z",
          "iopub.status.idle": "2022-01-11T06:28:20.975444Z",
          "shell.execute_reply": "2022-01-11T06:28:20.974448Z",
          "shell.execute_reply.started": "2022-01-11T06:20:58.991422Z"
        },
        "papermill": {
          "duration": 0.814151,
          "end_time": "2022-01-11T06:28:20.975637",
          "exception": false,
          "start_time": "2022-01-11T06:28:20.161486",
          "status": "completed"
        },
        "tags": [],
        "colab": {
          "base_uri": "https://localhost:8080/",
          "height": 461
        },
        "id": "82f6b910",
        "outputId": "eaa09387-0809-4ada-fa41-0cdb935d907f"
      },
      "outputs": [
        {
          "output_type": "execute_result",
          "data": {
            "text/plain": [
              "<matplotlib.axes._subplots.AxesSubplot at 0x7f71eec1e910>"
            ]
          },
          "metadata": {},
          "execution_count": 35
        },
        {
          "output_type": "display_data",
          "data": {
            "image/png": "[encoded data removed]",
            "text/plain": [
              "<Figure size 864x504 with 1 Axes>"
            ]
          },
          "metadata": {
            "needs_background": "light"
          }
        }
      ],
      "source": [
        "plt.figure(figsize=(12,7))\n",
        "sns.histplot(df[df['target'] == 0][\"num_characters\"])\n",
        "sns.histplot(df[df['target'] == 1][\"num_characters\"],color='red')"
      ]
    },
    {
      "cell_type": "code",
      "execution_count": null,
      "id": "4d1744c8",
      "metadata": {
        "execution": {
          "iopub.execute_input": "2022-01-11T06:28:21.131669Z",
          "iopub.status.busy": "2022-01-11T06:28:21.130703Z",
          "iopub.status.idle": "2022-01-11T06:28:21.712257Z",
          "shell.execute_reply": "2022-01-11T06:28:21.711634Z",
          "shell.execute_reply.started": "2022-01-11T06:20:59.743925Z"
        },
        "papermill": {
          "duration": 0.661288,
          "end_time": "2022-01-11T06:28:21.712421",
          "exception": false,
          "start_time": "2022-01-11T06:28:21.051133",
          "status": "completed"
        },
        "tags": [],
        "colab": {
          "base_uri": "https://localhost:8080/",
          "height": 461
        },
        "id": "4d1744c8",
        "outputId": "887604e9-a3eb-468a-e2fb-aecd86814c00"
      },
      "outputs": [
        {
          "output_type": "execute_result",
          "data": {
            "text/plain": [
              "<matplotlib.axes._subplots.AxesSubplot at 0x7f71ee1def50>"
            ]
          },
          "metadata": {},
          "execution_count": 36
        },
        {
          "output_type": "display_data",
          "data": {
            "image/png": "[encoded data removed]",
            "text/plain": [
              "<Figure size 864x504 with 1 Axes>"
            ]
          },
          "metadata": {
            "needs_background": "light"
          }
        }
      ],
      "source": [
        "plt.figure(figsize=(12,7))\n",
        "sns.histplot(df[df['target'] == 0][\"num_words\"])\n",
        "sns.histplot(df[df['target'] == 1][\"num_words\"],color='red')"
      ]
    },
    {
      "cell_type": "code",
      "execution_count": null,
      "id": "36c1b798",
      "metadata": {
        "execution": {
          "iopub.execute_input": "2022-01-11T06:28:21.867527Z",
          "iopub.status.busy": "2022-01-11T06:28:21.866563Z",
          "iopub.status.idle": "2022-01-11T06:28:26.760610Z",
          "shell.execute_reply": "2022-01-11T06:28:26.761119Z",
          "shell.execute_reply.started": "2022-01-11T06:21:00.328878Z"
        },
        "papermill": {
          "duration": 4.97515,
          "end_time": "2022-01-11T06:28:26.761317",
          "exception": false,
          "start_time": "2022-01-11T06:28:21.786167",
          "status": "completed"
        },
        "tags": [],
        "colab": {
          "base_uri": "https://localhost:8080/",
          "height": 567
        },
        "id": "36c1b798",
        "outputId": "7a4c99e5-7aa4-4469-c2ff-69891ddc25ce"
      },
      "outputs": [
        {
          "output_type": "execute_result",
          "data": {
            "text/plain": [
              "<seaborn.axisgrid.PairGrid at 0x7f71ee464590>"
            ]
          },
          "metadata": {},
          "execution_count": 37
        },
        {
          "output_type": "display_data",
          "data": {
            "image/png": "[encoded data removed]",
            "text/plain": [
              "<Figure size 582.375x540 with 12 Axes>"
            ]
          },
          "metadata": {
            "needs_background": "light"
          }
        }
      ],
      "source": [
        "sns.pairplot(df,hue=\"target\")"
      ]
    },
    {
      "cell_type": "code",
      "execution_count": null,
      "id": "2d47d50a",
      "metadata": {
        "execution": {
          "iopub.execute_input": "2022-01-11T06:28:26.918045Z",
          "iopub.status.busy": "2022-01-11T06:28:26.917102Z",
          "iopub.status.idle": "2022-01-11T06:28:27.247961Z",
          "shell.execute_reply": "2022-01-11T06:28:27.246677Z",
          "shell.execute_reply.started": "2022-01-11T06:21:05.371648Z"
        },
        "papermill": {
          "duration": 0.409651,
          "end_time": "2022-01-11T06:28:27.248112",
          "exception": false,
          "start_time": "2022-01-11T06:28:26.838461",
          "status": "completed"
        },
        "tags": [],
        "colab": {
          "base_uri": "https://localhost:8080/",
          "height": 357
        },
        "id": "2d47d50a",
        "outputId": "412bbba8-32c1-4aaf-ee37-028bae247ef2"
      },
      "outputs": [
        {
          "output_type": "execute_result",
          "data": {
            "text/plain": [
              "<matplotlib.axes._subplots.AxesSubplot at 0x7f71e332a610>"
            ]
          },
          "metadata": {},
          "execution_count": 38
        },
        {
          "output_type": "display_data",
          "data": {
            "image/png": "[encoded data removed]",
            "text/plain": [
              "<Figure size 432x288 with 2 Axes>"
            ]
          },
          "metadata": {
            "needs_background": "light"
          }
        }
      ],
      "source": [
        "sns.heatmap(df.corr(),annot=True)"
      ]
    },
    {
      "cell_type": "markdown",
      "id": "6ca85df7",
      "metadata": {
        "papermill": {
          "duration": 0.077288,
          "end_time": "2022-01-11T06:28:27.403350",
          "exception": false,
          "start_time": "2022-01-11T06:28:27.326062",
          "status": "completed"
        },
        "tags": [],
        "id": "6ca85df7"
      },
      "source": [
        "# 3.Data Preprocessing\n",
        "\n",
        "    -Lower case\n",
        "    -Tokenization = breakdown into words\n",
        "    -Removing special charecters\n",
        "    -Removing stop words and punctuation\n",
        "    -Stemming = converting into base word (eg = dancing,danced = dance)"
      ]
    },
    {
      "cell_type": "code",
      "execution_count": 20,
      "id": "4738ff34",
      "metadata": {
        "execution": {
          "iopub.execute_input": "2022-01-11T06:28:27.563429Z",
          "iopub.status.busy": "2022-01-11T06:28:27.562766Z",
          "iopub.status.idle": "2022-01-11T06:28:27.571495Z",
          "shell.execute_reply": "2022-01-11T06:28:27.571953Z",
          "shell.execute_reply.started": "2022-01-11T06:21:05.703593Z"
        },
        "papermill": {
          "duration": 0.091567,
          "end_time": "2022-01-11T06:28:27.572125",
          "exception": false,
          "start_time": "2022-01-11T06:28:27.480558",
          "status": "completed"
        },
        "tags": [],
        "colab": {
          "base_uri": "https://localhost:8080/",
          "height": 70
        },
        "id": "4738ff34",
        "outputId": "9bb8eab7-bd34-4684-da72-81fb205779ce"
      },
      "outputs": [
        {
          "output_type": "stream",
          "name": "stdout",
          "text": [
            "[nltk_data] Downloading package stopwords to /root/nltk_data...\n",
            "[nltk_data]   Unzipping corpora/stopwords.zip.\n"
          ]
        },
        {
          "output_type": "execute_result",
          "data": {
            "application/vnd.google.colaboratory.intrinsic+json": {
              "type": "string"
            },
            "text/plain": [
              "'!\"#$%&\\'()*+,-./:;<=>?@[\\\\]^_`{|}~'"
            ]
          },
          "metadata": {},
          "execution_count": 20
        }
      ],
      "source": [
        "import nltk\n",
        "from nltk.corpus import stopwords\n",
        "nltk.download('stopwords')\n",
        "import string\n",
        "string.punctuation"
      ]
    },
    {
      "cell_type": "code",
      "execution_count": 21,
      "id": "d8fa78a3",
      "metadata": {
        "execution": {
          "iopub.execute_input": "2022-01-11T06:28:27.731117Z",
          "iopub.status.busy": "2022-01-11T06:28:27.730179Z",
          "iopub.status.idle": "2022-01-11T06:28:27.734749Z",
          "shell.execute_reply": "2022-01-11T06:28:27.734251Z",
          "shell.execute_reply.started": "2022-01-11T06:21:05.718575Z"
        },
        "papermill": {
          "duration": 0.085186,
          "end_time": "2022-01-11T06:28:27.734907",
          "exception": false,
          "start_time": "2022-01-11T06:28:27.649721",
          "status": "completed"
        },
        "tags": [],
        "id": "d8fa78a3"
      },
      "outputs": [],
      "source": [
        "from nltk.stem.porter import PorterStemmer\n",
        "ps = PorterStemmer()"
      ]
    },
    {
      "cell_type": "code",
      "execution_count": 22,
      "id": "0d6a7c9c",
      "metadata": {
        "execution": {
          "iopub.execute_input": "2022-01-11T06:28:27.899069Z",
          "iopub.status.busy": "2022-01-11T06:28:27.898430Z",
          "iopub.status.idle": "2022-01-11T06:28:27.904974Z",
          "shell.execute_reply": "2022-01-11T06:28:27.905430Z",
          "shell.execute_reply.started": "2022-01-11T06:21:05.725148Z"
        },
        "papermill": {
          "duration": 0.090689,
          "end_time": "2022-01-11T06:28:27.905604",
          "exception": false,
          "start_time": "2022-01-11T06:28:27.814915",
          "status": "completed"
        },
        "tags": [],
        "id": "0d6a7c9c"
      },
      "outputs": [],
      "source": [
        "def transform_text(text):\n",
        "    text = text.lower()\n",
        "    text = nltk.wordpunct_tokenize(text)\n",
        "    #removing special character and appending it into y\n",
        "    y = []\n",
        "    for i in text:\n",
        "        if i.isalnum():\n",
        "            y.append(i)\n",
        "            \n",
        "    text = y[:]\n",
        "    y.clear()\n",
        "    \n",
        "    for i in text:\n",
        "        if i not in stopwords.words('english') and i not in string.punctuation:\n",
        "            y.append(i)\n",
        "            \n",
        "            \n",
        "    text = y[:]\n",
        "    y.clear()\n",
        "    \n",
        "    for i in text:\n",
        "        y.append(ps.stem(i))\n",
        "    \n",
        "    return \" \".join(y)"
      ]
    },
    {
      "cell_type": "code",
      "execution_count": 23,
      "id": "6bb4269c",
      "metadata": {
        "execution": {
          "iopub.execute_input": "2022-01-11T06:28:28.070716Z",
          "iopub.status.busy": "2022-01-11T06:28:28.068177Z",
          "iopub.status.idle": "2022-01-11T06:28:40.270032Z",
          "shell.execute_reply": "2022-01-11T06:28:40.269443Z",
          "shell.execute_reply.started": "2022-01-11T06:21:05.737505Z"
        },
        "papermill": {
          "duration": 12.285541,
          "end_time": "2022-01-11T06:28:40.270179",
          "exception": false,
          "start_time": "2022-01-11T06:28:27.984638",
          "status": "completed"
        },
        "tags": [],
        "colab": {
          "base_uri": "https://localhost:8080/"
        },
        "id": "6bb4269c",
        "outputId": "7ae09fb0-923a-400a-a7f4-300545115a9d"
      },
      "outputs": [
        {
          "output_type": "stream",
          "name": "stderr",
          "text": [
            "/usr/local/lib/python3.7/dist-packages/ipykernel_launcher.py:1: SettingWithCopyWarning: \n",
            "A value is trying to be set on a copy of a slice from a DataFrame.\n",
            "Try using .loc[row_indexer,col_indexer] = value instead\n",
            "\n",
            "See the caveats in the documentation: https://pandas.pydata.org/pandas-docs/stable/user_guide/indexing.html#returning-a-view-versus-a-copy\n",
            "  \"\"\"Entry point for launching an IPython kernel.\n"
          ]
        }
      ],
      "source": [
        "df['transformed_text'] = df['text'].apply(transform_text)"
      ]
    },
    {
      "cell_type": "code",
      "execution_count": 24,
      "id": "ea9a2117",
      "metadata": {
        "execution": {
          "iopub.execute_input": "2022-01-11T06:28:40.436575Z",
          "iopub.status.busy": "2022-01-11T06:28:40.435964Z",
          "iopub.status.idle": "2022-01-11T06:28:40.442459Z",
          "shell.execute_reply": "2022-01-11T06:28:40.441965Z",
          "shell.execute_reply.started": "2022-01-11T06:21:18.145146Z"
        },
        "papermill": {
          "duration": 0.093681,
          "end_time": "2022-01-11T06:28:40.442612",
          "exception": false,
          "start_time": "2022-01-11T06:28:40.348931",
          "status": "completed"
        },
        "tags": [],
        "colab": {
          "base_uri": "https://localhost:8080/",
          "height": 206
        },
        "id": "ea9a2117",
        "outputId": "a963d50e-c46d-40be-e227-2b2e63b73388"
      },
      "outputs": [
        {
          "output_type": "execute_result",
          "data": {
            "text/html": [
              "\n",
              "  <div id=\"df-aa6d1641-4953-44e5-8493-017213eef4ac\">\n",
              "    <div class=\"colab-df-container\">\n",
              "      <div>\n",
              "<style scoped>\n",
              "    .dataframe tbody tr th:only-of-type {\n",
              "        vertical-align: middle;\n",
              "    }\n",
              "\n",
              "    .dataframe tbody tr th {\n",
              "        vertical-align: top;\n",
              "    }\n",
              "\n",
              "    .dataframe thead th {\n",
              "        text-align: right;\n",
              "    }\n",
              "</style>\n",
              "<table border=\"1\" class=\"dataframe\">\n",
              "  <thead>\n",
              "    <tr style=\"text-align: right;\">\n",
              "      <th></th>\n",
              "      <th>target</th>\n",
              "      <th>text</th>\n",
              "      <th>transformed_text</th>\n",
              "    </tr>\n",
              "  </thead>\n",
              "  <tbody>\n",
              "    <tr>\n",
              "      <th>0</th>\n",
              "      <td>0</td>\n",
              "      <td>Go until jurong point, crazy.. Available only ...</td>\n",
              "      <td>go jurong point crazi avail bugi n great world...</td>\n",
              "    </tr>\n",
              "    <tr>\n",
              "      <th>1</th>\n",
              "      <td>0</td>\n",
              "      <td>Ok lar... Joking wif u oni...</td>\n",
              "      <td>ok lar joke wif u oni</td>\n",
              "    </tr>\n",
              "    <tr>\n",
              "      <th>2</th>\n",
              "      <td>1</td>\n",
              "      <td>Free entry in 2 a wkly comp to win FA Cup fina...</td>\n",
              "      <td>free entri 2 wkli comp win fa cup final tkt 21...</td>\n",
              "    </tr>\n",
              "    <tr>\n",
              "      <th>3</th>\n",
              "      <td>0</td>\n",
              "      <td>U dun say so early hor... U c already then say...</td>\n",
              "      <td>u dun say earli hor u c alreadi say</td>\n",
              "    </tr>\n",
              "    <tr>\n",
              "      <th>4</th>\n",
              "      <td>0</td>\n",
              "      <td>Nah I don't think he goes to usf, he lives aro...</td>\n",
              "      <td>nah think goe usf live around though</td>\n",
              "    </tr>\n",
              "  </tbody>\n",
              "</table>\n",
              "</div>\n",
              "      <button class=\"colab-df-convert\" onclick=\"convertToInteractive('df-aa6d1641-4953-44e5-8493-017213eef4ac')\"\n",
              "              title=\"Convert this dataframe to an interactive table.\"\n",
              "              style=\"display:none;\">\n",
              "        \n",
              "  <svg xmlns=\"http://www.w3.org/2000/svg\" height=\"24px\"viewBox=\"0 0 24 24\"\n",
              "       width=\"24px\">\n",
              "    <path d=\"M0 0h24v24H0V0z\" fill=\"none\"/>\n",
              "    <path d=\"M18.56 5.44l.94 2.06.94-2.06 2.06-.94-2.06-.94-.94-2.06-.94 2.06-2.06.94zm-11 1L8.5 8.5l.94-2.06 2.06-.94-2.06-.94L8.5 2.5l-.94 2.06-2.06.94zm10 10l.94 2.06.94-2.06 2.06-.94-2.06-.94-.94-2.06-.94 2.06-2.06.94z\"/><path d=\"M17.41 7.96l-1.37-1.37c-.4-.4-.92-.59-1.43-.59-.52 0-1.04.2-1.43.59L10.3 9.45l-7.72 7.72c-.78.78-.78 2.05 0 2.83L4 21.41c.39.39.9.59 1.41.59.51 0 1.02-.2 1.41-.59l7.78-7.78 2.81-2.81c.8-.78.8-2.07 0-2.86zM5.41 20L4 18.59l7.72-7.72 1.47 1.35L5.41 20z\"/>\n",
              "  </svg>\n",
              "      </button>\n",
              "      \n",
              "  <style>\n",
              "    .colab-df-container {\n",
              "      display:flex;\n",
              "      flex-wrap:wrap;\n",
              "      gap: 12px;\n",
              "    }\n",
              "\n",
              "    .colab-df-convert {\n",
              "      background-color: #E8F0FE;\n",
              "      border: none;\n",
              "      border-radius: 50%;\n",
              "      cursor: pointer;\n",
              "      display: none;\n",
              "      fill: #1967D2;\n",
              "      height: 32px;\n",
              "      padding: 0 0 0 0;\n",
              "      width: 32px;\n",
              "    }\n",
              "\n",
              "    .colab-df-convert:hover {\n",
              "      background-color: #E2EBFA;\n",
              "      box-shadow: 0px 1px 2px rgba(60, 64, 67, 0.3), 0px 1px 3px 1px rgba(60, 64, 67, 0.15);\n",
              "      fill: #174EA6;\n",
              "    }\n",
              "\n",
              "    [theme=dark] .colab-df-convert {\n",
              "      background-color: #3B4455;\n",
              "      fill: #D2E3FC;\n",
              "    }\n",
              "\n",
              "    [theme=dark] .colab-df-convert:hover {\n",
              "      background-color: #434B5C;\n",
              "      box-shadow: 0px 1px 3px 1px rgba(0, 0, 0, 0.15);\n",
              "      filter: drop-shadow(0px 1px 2px rgba(0, 0, 0, 0.3));\n",
              "      fill: #FFFFFF;\n",
              "    }\n",
              "  </style>\n",
              "\n",
              "      <script>\n",
              "        const buttonEl =\n",
              "          document.querySelector('#df-aa6d1641-4953-44e5-8493-017213eef4ac button.colab-df-convert');\n",
              "        buttonEl.style.display =\n",
              "          google.colab.kernel.accessAllowed ? 'block' : 'none';\n",
              "\n",
              "        async function convertToInteractive(key) {\n",
              "          const element = document.querySelector('#df-aa6d1641-4953-44e5-8493-017213eef4ac');\n",
              "          const dataTable =\n",
              "            await google.colab.kernel.invokeFunction('convertToInteractive',\n",
              "                                                     [key], {});\n",
              "          if (!dataTable) return;\n",
              "\n",
              "          const docLinkHtml = 'Like what you see? Visit the ' +\n",
              "            '<a target=\"_blank\" href=https://colab.research.google.com/notebooks/data_table.ipynb>data table notebook</a>'\n",
              "            + ' to learn more about interactive tables.';\n",
              "          element.innerHTML = '';\n",
              "          dataTable['output_type'] = 'display_data';\n",
              "          await google.colab.output.renderOutput(dataTable, element);\n",
              "          const docLink = document.createElement('div');\n",
              "          docLink.innerHTML = docLinkHtml;\n",
              "          element.appendChild(docLink);\n",
              "        }\n",
              "      </script>\n",
              "    </div>\n",
              "  </div>\n",
              "  "
            ],
            "text/plain": [
              "   target  ...                                   transformed_text\n",
              "0       0  ...  go jurong point crazi avail bugi n great world...\n",
              "1       0  ...                              ok lar joke wif u oni\n",
              "2       1  ...  free entri 2 wkli comp win fa cup final tkt 21...\n",
              "3       0  ...                u dun say earli hor u c alreadi say\n",
              "4       0  ...               nah think goe usf live around though\n",
              "\n",
              "[5 rows x 3 columns]"
            ]
          },
          "metadata": {},
          "execution_count": 24
        }
      ],
      "source": [
        "df.head()"
      ]
    },
    {
      "cell_type": "code",
      "execution_count": 25,
      "id": "2d946678",
      "metadata": {
        "execution": {
          "iopub.execute_input": "2022-01-11T06:28:40.606115Z",
          "iopub.status.busy": "2022-01-11T06:28:40.605411Z",
          "iopub.status.idle": "2022-01-11T06:28:40.657153Z",
          "shell.execute_reply": "2022-01-11T06:28:40.657729Z",
          "shell.execute_reply.started": "2022-01-11T06:21:18.159389Z"
        },
        "papermill": {
          "duration": 0.136437,
          "end_time": "2022-01-11T06:28:40.657966",
          "exception": false,
          "start_time": "2022-01-11T06:28:40.521529",
          "status": "completed"
        },
        "tags": [],
        "id": "2d946678"
      },
      "outputs": [],
      "source": [
        "from wordcloud import WordCloud"
      ]
    },
    {
      "cell_type": "code",
      "execution_count": 26,
      "id": "66aec82f",
      "metadata": {
        "execution": {
          "iopub.execute_input": "2022-01-11T06:28:40.822337Z",
          "iopub.status.busy": "2022-01-11T06:28:40.819731Z",
          "iopub.status.idle": "2022-01-11T06:28:40.824438Z",
          "shell.execute_reply": "2022-01-11T06:28:40.824972Z",
          "shell.execute_reply.started": "2022-01-11T06:21:18.210594Z"
        },
        "papermill": {
          "duration": 0.087024,
          "end_time": "2022-01-11T06:28:40.825147",
          "exception": false,
          "start_time": "2022-01-11T06:28:40.738123",
          "status": "completed"
        },
        "tags": [],
        "id": "66aec82f"
      },
      "outputs": [],
      "source": [
        "wc = WordCloud(width=500,min_font_size=10,height=500,background_color='white')"
      ]
    },
    {
      "cell_type": "code",
      "execution_count": 27,
      "id": "fcebf92b",
      "metadata": {
        "execution": {
          "iopub.execute_input": "2022-01-11T06:28:40.989277Z",
          "iopub.status.busy": "2022-01-11T06:28:40.988601Z",
          "iopub.status.idle": "2022-01-11T06:28:41.607273Z",
          "shell.execute_reply": "2022-01-11T06:28:41.606691Z",
          "shell.execute_reply.started": "2022-01-11T06:21:18.216315Z"
        },
        "papermill": {
          "duration": 0.701705,
          "end_time": "2022-01-11T06:28:41.607423",
          "exception": false,
          "start_time": "2022-01-11T06:28:40.905718",
          "status": "completed"
        },
        "tags": [],
        "id": "fcebf92b"
      },
      "outputs": [],
      "source": [
        "#for spam sms\n",
        "spam_wc = wc.generate(df[df['target'] == 1]['transformed_text'].str.cat(sep=\" \"))"
      ]
    },
    {
      "cell_type": "code",
      "execution_count": 28,
      "id": "521bc144",
      "metadata": {
        "execution": {
          "iopub.execute_input": "2022-01-11T06:28:42.356894Z",
          "iopub.status.busy": "2022-01-11T06:28:42.356234Z",
          "iopub.status.idle": "2022-01-11T06:28:43.375803Z",
          "shell.execute_reply": "2022-01-11T06:28:43.375219Z",
          "shell.execute_reply.started": "2022-01-11T06:21:19.254576Z"
        },
        "papermill": {
          "duration": 1.107568,
          "end_time": "2022-01-11T06:28:43.375987",
          "exception": false,
          "start_time": "2022-01-11T06:28:42.268419",
          "status": "completed"
        },
        "tags": [],
        "id": "521bc144"
      },
      "outputs": [],
      "source": [
        "#for ham sms\n",
        "ham_wc = wc.generate(df[df['target'] == 0]['transformed_text'].str.cat(sep=\" \"))"
      ]
    },
    {
      "cell_type": "code",
      "execution_count": 29,
      "id": "57cbad33",
      "metadata": {
        "execution": {
          "iopub.execute_input": "2022-01-11T06:28:44.213882Z",
          "iopub.status.busy": "2022-01-11T06:28:44.205492Z",
          "iopub.status.idle": "2022-01-11T06:28:44.217592Z",
          "shell.execute_reply": "2022-01-11T06:28:44.217056Z",
          "shell.execute_reply.started": "2022-01-11T06:21:20.834685Z"
        },
        "papermill": {
          "duration": 0.109198,
          "end_time": "2022-01-11T06:28:44.217753",
          "exception": false,
          "start_time": "2022-01-11T06:28:44.108555",
          "status": "completed"
        },
        "tags": [],
        "colab": {
          "base_uri": "https://localhost:8080/",
          "height": 206
        },
        "id": "57cbad33",
        "outputId": "7cd5cde1-4c80-4343-dc2e-3fba6994d213"
      },
      "outputs": [
        {
          "output_type": "execute_result",
          "data": {
            "text/html": [
              "\n",
              "  <div id=\"df-01b2c751-4222-420a-8b2e-1f4fd6c6babc\">\n",
              "    <div class=\"colab-df-container\">\n",
              "      <div>\n",
              "<style scoped>\n",
              "    .dataframe tbody tr th:only-of-type {\n",
              "        vertical-align: middle;\n",
              "    }\n",
              "\n",
              "    .dataframe tbody tr th {\n",
              "        vertical-align: top;\n",
              "    }\n",
              "\n",
              "    .dataframe thead th {\n",
              "        text-align: right;\n",
              "    }\n",
              "</style>\n",
              "<table border=\"1\" class=\"dataframe\">\n",
              "  <thead>\n",
              "    <tr style=\"text-align: right;\">\n",
              "      <th></th>\n",
              "      <th>target</th>\n",
              "      <th>text</th>\n",
              "      <th>transformed_text</th>\n",
              "    </tr>\n",
              "  </thead>\n",
              "  <tbody>\n",
              "    <tr>\n",
              "      <th>0</th>\n",
              "      <td>0</td>\n",
              "      <td>Go until jurong point, crazy.. Available only ...</td>\n",
              "      <td>go jurong point crazi avail bugi n great world...</td>\n",
              "    </tr>\n",
              "    <tr>\n",
              "      <th>1</th>\n",
              "      <td>0</td>\n",
              "      <td>Ok lar... Joking wif u oni...</td>\n",
              "      <td>ok lar joke wif u oni</td>\n",
              "    </tr>\n",
              "    <tr>\n",
              "      <th>2</th>\n",
              "      <td>1</td>\n",
              "      <td>Free entry in 2 a wkly comp to win FA Cup fina...</td>\n",
              "      <td>free entri 2 wkli comp win fa cup final tkt 21...</td>\n",
              "    </tr>\n",
              "    <tr>\n",
              "      <th>3</th>\n",
              "      <td>0</td>\n",
              "      <td>U dun say so early hor... U c already then say...</td>\n",
              "      <td>u dun say earli hor u c alreadi say</td>\n",
              "    </tr>\n",
              "    <tr>\n",
              "      <th>4</th>\n",
              "      <td>0</td>\n",
              "      <td>Nah I don't think he goes to usf, he lives aro...</td>\n",
              "      <td>nah think goe usf live around though</td>\n",
              "    </tr>\n",
              "  </tbody>\n",
              "</table>\n",
              "</div>\n",
              "      <button class=\"colab-df-convert\" onclick=\"convertToInteractive('df-01b2c751-4222-420a-8b2e-1f4fd6c6babc')\"\n",
              "              title=\"Convert this dataframe to an interactive table.\"\n",
              "              style=\"display:none;\">\n",
              "        \n",
              "  <svg xmlns=\"http://www.w3.org/2000/svg\" height=\"24px\"viewBox=\"0 0 24 24\"\n",
              "       width=\"24px\">\n",
              "    <path d=\"M0 0h24v24H0V0z\" fill=\"none\"/>\n",
              "    <path d=\"M18.56 5.44l.94 2.06.94-2.06 2.06-.94-2.06-.94-.94-2.06-.94 2.06-2.06.94zm-11 1L8.5 8.5l.94-2.06 2.06-.94-2.06-.94L8.5 2.5l-.94 2.06-2.06.94zm10 10l.94 2.06.94-2.06 2.06-.94-2.06-.94-.94-2.06-.94 2.06-2.06.94z\"/><path d=\"M17.41 7.96l-1.37-1.37c-.4-.4-.92-.59-1.43-.59-.52 0-1.04.2-1.43.59L10.3 9.45l-7.72 7.72c-.78.78-.78 2.05 0 2.83L4 21.41c.39.39.9.59 1.41.59.51 0 1.02-.2 1.41-.59l7.78-7.78 2.81-2.81c.8-.78.8-2.07 0-2.86zM5.41 20L4 18.59l7.72-7.72 1.47 1.35L5.41 20z\"/>\n",
              "  </svg>\n",
              "      </button>\n",
              "      \n",
              "  <style>\n",
              "    .colab-df-container {\n",
              "      display:flex;\n",
              "      flex-wrap:wrap;\n",
              "      gap: 12px;\n",
              "    }\n",
              "\n",
              "    .colab-df-convert {\n",
              "      background-color: #E8F0FE;\n",
              "      border: none;\n",
              "      border-radius: 50%;\n",
              "      cursor: pointer;\n",
              "      display: none;\n",
              "      fill: #1967D2;\n",
              "      height: 32px;\n",
              "      padding: 0 0 0 0;\n",
              "      width: 32px;\n",
              "    }\n",
              "\n",
              "    .colab-df-convert:hover {\n",
              "      background-color: #E2EBFA;\n",
              "      box-shadow: 0px 1px 2px rgba(60, 64, 67, 0.3), 0px 1px 3px 1px rgba(60, 64, 67, 0.15);\n",
              "      fill: #174EA6;\n",
              "    }\n",
              "\n",
              "    [theme=dark] .colab-df-convert {\n",
              "      background-color: #3B4455;\n",
              "      fill: #D2E3FC;\n",
              "    }\n",
              "\n",
              "    [theme=dark] .colab-df-convert:hover {\n",
              "      background-color: #434B5C;\n",
              "      box-shadow: 0px 1px 3px 1px rgba(0, 0, 0, 0.15);\n",
              "      filter: drop-shadow(0px 1px 2px rgba(0, 0, 0, 0.3));\n",
              "      fill: #FFFFFF;\n",
              "    }\n",
              "  </style>\n",
              "\n",
              "      <script>\n",
              "        const buttonEl =\n",
              "          document.querySelector('#df-01b2c751-4222-420a-8b2e-1f4fd6c6babc button.colab-df-convert');\n",
              "        buttonEl.style.display =\n",
              "          google.colab.kernel.accessAllowed ? 'block' : 'none';\n",
              "\n",
              "        async function convertToInteractive(key) {\n",
              "          const element = document.querySelector('#df-01b2c751-4222-420a-8b2e-1f4fd6c6babc');\n",
              "          const dataTable =\n",
              "            await google.colab.kernel.invokeFunction('convertToInteractive',\n",
              "                                                     [key], {});\n",
              "          if (!dataTable) return;\n",
              "\n",
              "          const docLinkHtml = 'Like what you see? Visit the ' +\n",
              "            '<a target=\"_blank\" href=https://colab.research.google.com/notebooks/data_table.ipynb>data table notebook</a>'\n",
              "            + ' to learn more about interactive tables.';\n",
              "          element.innerHTML = '';\n",
              "          dataTable['output_type'] = 'display_data';\n",
              "          await google.colab.output.renderOutput(dataTable, element);\n",
              "          const docLink = document.createElement('div');\n",
              "          docLink.innerHTML = docLinkHtml;\n",
              "          element.appendChild(docLink);\n",
              "        }\n",
              "      </script>\n",
              "    </div>\n",
              "  </div>\n",
              "  "
            ],
            "text/plain": [
              "   target  ...                                   transformed_text\n",
              "0       0  ...  go jurong point crazi avail bugi n great world...\n",
              "1       0  ...                              ok lar joke wif u oni\n",
              "2       1  ...  free entri 2 wkli comp win fa cup final tkt 21...\n",
              "3       0  ...                u dun say earli hor u c alreadi say\n",
              "4       0  ...               nah think goe usf live around though\n",
              "\n",
              "[5 rows x 3 columns]"
            ]
          },
          "metadata": {},
          "execution_count": 29
        }
      ],
      "source": [
        "df.head()"
      ]
    },
    {
      "cell_type": "markdown",
      "id": "c8323ef7",
      "metadata": {
        "papermill": {
          "duration": 0.094261,
          "end_time": "2022-01-11T06:28:44.405427",
          "exception": false,
          "start_time": "2022-01-11T06:28:44.311166",
          "status": "completed"
        },
        "tags": [],
        "id": "c8323ef7"
      },
      "source": [
        "### spam - top 30 words"
      ]
    },
    {
      "cell_type": "code",
      "execution_count": null,
      "id": "6145aaa7",
      "metadata": {
        "execution": {
          "iopub.execute_input": "2022-01-11T06:28:44.604821Z",
          "iopub.status.busy": "2022-01-11T06:28:44.599146Z",
          "iopub.status.idle": "2022-01-11T06:28:44.606567Z",
          "shell.execute_reply": "2022-01-11T06:28:44.607114Z",
          "shell.execute_reply.started": "2022-01-11T06:21:20.848918Z"
        },
        "papermill": {
          "duration": 0.107812,
          "end_time": "2022-01-11T06:28:44.607320",
          "exception": false,
          "start_time": "2022-01-11T06:28:44.499508",
          "status": "completed"
        },
        "tags": [],
        "id": "6145aaa7"
      },
      "outputs": [],
      "source": [
        "#iterating threw all the spam text and spliting them into word in append it into spam_corpus\n",
        "spam_corpus = []\n",
        "for msg in df[df['target'] == 1]['transformed_text'].tolist():\n",
        "    for word in msg.split():\n",
        "        spam_corpus.append(word)"
      ]
    },
    {
      "cell_type": "code",
      "execution_count": null,
      "id": "5c2f29e5",
      "metadata": {
        "execution": {
          "iopub.execute_input": "2022-01-11T06:28:44.799514Z",
          "iopub.status.busy": "2022-01-11T06:28:44.798853Z",
          "iopub.status.idle": "2022-01-11T06:28:44.803848Z",
          "shell.execute_reply": "2022-01-11T06:28:44.804487Z",
          "shell.execute_reply.started": "2022-01-11T06:21:20.864628Z"
        },
        "papermill": {
          "duration": 0.10277,
          "end_time": "2022-01-11T06:28:44.804678",
          "exception": false,
          "start_time": "2022-01-11T06:28:44.701908",
          "status": "completed"
        },
        "tags": [],
        "colab": {
          "base_uri": "https://localhost:8080/"
        },
        "id": "5c2f29e5",
        "outputId": "edf84483-cb05-4707-aebc-7b7723d41a67"
      },
      "outputs": [
        {
          "output_type": "execute_result",
          "data": {
            "text/plain": [
              "11993"
            ]
          },
          "metadata": {},
          "execution_count": 53
        }
      ],
      "source": [
        "len(spam_corpus)"
      ]
    },
    {
      "cell_type": "code",
      "execution_count": null,
      "id": "5998b46f",
      "metadata": {
        "execution": {
          "iopub.execute_input": "2022-01-11T06:28:44.998767Z",
          "iopub.status.busy": "2022-01-11T06:28:44.998137Z",
          "iopub.status.idle": "2022-01-11T06:28:45.001858Z",
          "shell.execute_reply": "2022-01-11T06:28:45.002348Z",
          "shell.execute_reply.started": "2022-01-11T06:21:20.872626Z"
        },
        "papermill": {
          "duration": 0.101686,
          "end_time": "2022-01-11T06:28:45.002549",
          "exception": false,
          "start_time": "2022-01-11T06:28:44.900863",
          "status": "completed"
        },
        "tags": [],
        "id": "5998b46f"
      },
      "outputs": [],
      "source": [
        "from collections import Counter"
      ]
    },
    {
      "cell_type": "code",
      "execution_count": null,
      "id": "87ce3e75",
      "metadata": {
        "execution": {
          "iopub.execute_input": "2022-01-11T06:28:45.197637Z",
          "iopub.status.busy": "2022-01-11T06:28:45.196981Z",
          "iopub.status.idle": "2022-01-11T06:28:45.567004Z",
          "shell.execute_reply": "2022-01-11T06:28:45.566397Z",
          "shell.execute_reply.started": "2022-01-11T06:21:20.882891Z"
        },
        "papermill": {
          "duration": 0.468303,
          "end_time": "2022-01-11T06:28:45.567176",
          "exception": false,
          "start_time": "2022-01-11T06:28:45.098873",
          "status": "completed"
        },
        "tags": [],
        "colab": {
          "base_uri": "https://localhost:8080/",
          "height": 362
        },
        "id": "87ce3e75",
        "outputId": "b2a87afa-ef3a-4354-d295-dbb76c6dcb32"
      },
      "outputs": [
        {
          "output_type": "stream",
          "name": "stderr",
          "text": [
            "/usr/local/lib/python3.7/dist-packages/seaborn/_decorators.py:43: FutureWarning: Pass the following variables as keyword args: x, y. From version 0.12, the only valid positional argument will be `data`, and passing other arguments without an explicit keyword will result in an error or misinterpretation.\n",
            "  FutureWarning\n"
          ]
        },
        {
          "output_type": "display_data",
          "data": {
            "image/png": "[encoded data removed]",
            "text/plain": [
              "<Figure size 432x288 with 1 Axes>"
            ]
          },
          "metadata": {
            "needs_background": "light"
          }
        }
      ],
      "source": [
        "sns.barplot(pd.DataFrame(Counter(spam_corpus).most_common(30))[0],pd.DataFrame(Counter(spam_corpus).most_common(30))[1])\n",
        "plt.xticks(rotation='vertical')\n",
        "plt.show()"
      ]
    },
    {
      "cell_type": "markdown",
      "id": "67eee78b",
      "metadata": {
        "papermill": {
          "duration": 0.105142,
          "end_time": "2022-01-11T06:28:45.781360",
          "exception": false,
          "start_time": "2022-01-11T06:28:45.676218",
          "status": "completed"
        },
        "tags": [],
        "id": "67eee78b"
      },
      "source": [
        "### Ham-top 30 words"
      ]
    },
    {
      "cell_type": "code",
      "execution_count": null,
      "id": "3d49312a",
      "metadata": {
        "execution": {
          "iopub.execute_input": "2022-01-11T06:28:46.026914Z",
          "iopub.status.busy": "2022-01-11T06:28:46.026213Z",
          "iopub.status.idle": "2022-01-11T06:28:46.045836Z",
          "shell.execute_reply": "2022-01-11T06:28:46.046565Z",
          "shell.execute_reply.started": "2022-01-11T06:21:21.284887Z"
        },
        "papermill": {
          "duration": 0.134894,
          "end_time": "2022-01-11T06:28:46.046749",
          "exception": false,
          "start_time": "2022-01-11T06:28:45.911855",
          "status": "completed"
        },
        "tags": [],
        "id": "3d49312a"
      },
      "outputs": [],
      "source": [
        "#iterating threw all the ham text and spliting them into word in append it into ham_corpus\n",
        "ham_corpus = []\n",
        "for msg in df[df['target'] == 0]['transformed_text'].tolist():\n",
        "    for word in msg.split():\n",
        "        ham_corpus.append(word)"
      ]
    },
    {
      "cell_type": "code",
      "execution_count": null,
      "id": "6cba0928",
      "metadata": {
        "execution": {
          "iopub.execute_input": "2022-01-11T06:28:46.246167Z",
          "iopub.status.busy": "2022-01-11T06:28:46.245479Z",
          "iopub.status.idle": "2022-01-11T06:28:46.252211Z",
          "shell.execute_reply": "2022-01-11T06:28:46.253131Z",
          "shell.execute_reply.started": "2022-01-11T06:21:21.302567Z"
        },
        "papermill": {
          "duration": 0.108754,
          "end_time": "2022-01-11T06:28:46.253399",
          "exception": false,
          "start_time": "2022-01-11T06:28:46.144645",
          "status": "completed"
        },
        "tags": [],
        "colab": {
          "base_uri": "https://localhost:8080/"
        },
        "id": "6cba0928",
        "outputId": "1d418fb5-6ea0-4706-a5ee-d3c40dd7a3ee"
      },
      "outputs": [
        {
          "output_type": "execute_result",
          "data": {
            "text/plain": [
              "36368"
            ]
          },
          "metadata": {},
          "execution_count": 57
        }
      ],
      "source": [
        "len(ham_corpus)"
      ]
    },
    {
      "cell_type": "code",
      "execution_count": null,
      "id": "ae6503b6",
      "metadata": {
        "execution": {
          "iopub.execute_input": "2022-01-11T06:28:46.464149Z",
          "iopub.status.busy": "2022-01-11T06:28:46.463162Z",
          "iopub.status.idle": "2022-01-11T06:28:47.021055Z",
          "shell.execute_reply": "2022-01-11T06:28:47.021525Z",
          "shell.execute_reply.started": "2022-01-11T06:21:21.316794Z"
        },
        "papermill": {
          "duration": 0.662777,
          "end_time": "2022-01-11T06:28:47.021718",
          "exception": false,
          "start_time": "2022-01-11T06:28:46.358941",
          "status": "completed"
        },
        "tags": [],
        "colab": {
          "base_uri": "https://localhost:8080/",
          "height": 352
        },
        "id": "ae6503b6",
        "outputId": "94334a92-d643-4d3b-ef06-aa62da0930b4"
      },
      "outputs": [
        {
          "output_type": "stream",
          "name": "stderr",
          "text": [
            "/usr/local/lib/python3.7/dist-packages/seaborn/_decorators.py:43: FutureWarning: Pass the following variables as keyword args: x, y. From version 0.12, the only valid positional argument will be `data`, and passing other arguments without an explicit keyword will result in an error or misinterpretation.\n",
            "  FutureWarning\n"
          ]
        },
        {
          "output_type": "display_data",
          "data": {
            "image/png": "[encoded data removed]",
            "text/plain": [
              "<Figure size 432x288 with 1 Axes>"
            ]
          },
          "metadata": {
            "needs_background": "light"
          }
        }
      ],
      "source": [
        "sns.barplot(pd.DataFrame(Counter(ham_corpus).most_common(30))[0],pd.DataFrame(Counter(ham_corpus).most_common(30))[1])\n",
        "plt.xticks(rotation='vertical')\n",
        "plt.show()"
      ]
    },
    {
      "cell_type": "markdown",
      "id": "9f503969",
      "metadata": {
        "papermill": {
          "duration": 0.095527,
          "end_time": "2022-01-11T06:28:47.213239",
          "exception": false,
          "start_time": "2022-01-11T06:28:47.117712",
          "status": "completed"
        },
        "tags": [],
        "id": "9f503969"
      },
      "source": [
        "if we have to convert the text data into numarical data \n",
        "\n",
        "we can do it by three ways\n",
        "\n",
        "    1.Bag of words\n",
        "    2.tf-Idf\n",
        "    3.word2vec"
      ]
    },
    {
      "cell_type": "code",
      "execution_count": 31,
      "id": "b37773cb",
      "metadata": {
        "execution": {
          "iopub.execute_input": "2022-01-11T06:28:47.408864Z",
          "iopub.status.busy": "2022-01-11T06:28:47.408224Z",
          "iopub.status.idle": "2022-01-11T06:28:47.411910Z",
          "shell.execute_reply": "2022-01-11T06:28:47.412379Z",
          "shell.execute_reply.started": "2022-01-11T06:21:21.881250Z"
        },
        "papermill": {
          "duration": 0.10361,
          "end_time": "2022-01-11T06:28:47.412549",
          "exception": false,
          "start_time": "2022-01-11T06:28:47.308939",
          "status": "completed"
        },
        "tags": [],
        "id": "b37773cb"
      },
      "outputs": [],
      "source": [
        "from sklearn.feature_extraction.text import CountVectorizer\n",
        "cv = CountVectorizer()"
      ]
    },
    {
      "cell_type": "code",
      "execution_count": 32,
      "id": "5096eae1",
      "metadata": {
        "execution": {
          "iopub.execute_input": "2022-01-11T06:28:47.607516Z",
          "iopub.status.busy": "2022-01-11T06:28:47.606588Z",
          "iopub.status.idle": "2022-01-11T06:28:47.807032Z",
          "shell.execute_reply": "2022-01-11T06:28:47.806378Z",
          "shell.execute_reply.started": "2022-01-11T06:21:21.887958Z"
        },
        "papermill": {
          "duration": 0.298957,
          "end_time": "2022-01-11T06:28:47.807172",
          "exception": false,
          "start_time": "2022-01-11T06:28:47.508215",
          "status": "completed"
        },
        "tags": [],
        "id": "5096eae1"
      },
      "outputs": [],
      "source": [
        "#using count vectorizer\n",
        "X =cv.fit_transform(df['transformed_text']).toarray()"
      ]
    },
    {
      "cell_type": "code",
      "source": [
        "X[2]"
      ],
      "metadata": {
        "colab": {
          "base_uri": "https://localhost:8080/"
        },
        "id": "I_QiUcfDA1Gy",
        "outputId": "b6be7963-16e6-4514-a241-1f4e783717a2"
      },
      "id": "I_QiUcfDA1Gy",
      "execution_count": null,
      "outputs": [
        {
          "output_type": "execute_result",
          "data": {
            "text/plain": [
              "array([0, 0, 0, ..., 0, 0, 0])"
            ]
          },
          "metadata": {},
          "execution_count": 173
        }
      ]
    },
    {
      "cell_type": "code",
      "execution_count": null,
      "id": "17dc3340",
      "metadata": {
        "execution": {
          "iopub.execute_input": "2022-01-11T06:28:48.003713Z",
          "iopub.status.busy": "2022-01-11T06:28:48.003037Z",
          "iopub.status.idle": "2022-01-11T06:28:48.006630Z",
          "shell.execute_reply": "2022-01-11T06:28:48.007245Z",
          "shell.execute_reply.started": "2022-01-11T06:21:22.077694Z"
        },
        "papermill": {
          "duration": 0.105085,
          "end_time": "2022-01-11T06:28:48.007446",
          "exception": false,
          "start_time": "2022-01-11T06:28:47.902361",
          "status": "completed"
        },
        "tags": [],
        "colab": {
          "base_uri": "https://localhost:8080/"
        },
        "id": "17dc3340",
        "outputId": "a7278b98-10e7-4e69-856b-58f6432f4ae6"
      },
      "outputs": [
        {
          "output_type": "execute_result",
          "data": {
            "text/plain": [
              "(5169, 7206)"
            ]
          },
          "metadata": {},
          "execution_count": 61
        }
      ],
      "source": [
        "X.shape"
      ]
    },
    {
      "cell_type": "code",
      "execution_count": 33,
      "id": "cd2612b9",
      "metadata": {
        "execution": {
          "iopub.execute_input": "2022-01-11T06:28:48.206751Z",
          "iopub.status.busy": "2022-01-11T06:28:48.206072Z",
          "iopub.status.idle": "2022-01-11T06:28:48.209899Z",
          "shell.execute_reply": "2022-01-11T06:28:48.210367Z",
          "shell.execute_reply.started": "2022-01-11T06:21:22.085002Z"
        },
        "papermill": {
          "duration": 0.105332,
          "end_time": "2022-01-11T06:28:48.210573",
          "exception": false,
          "start_time": "2022-01-11T06:28:48.105241",
          "status": "completed"
        },
        "tags": [],
        "id": "cd2612b9"
      },
      "outputs": [],
      "source": [
        "y = df['target'].values"
      ]
    },
    {
      "cell_type": "code",
      "execution_count": 34,
      "id": "bf2681d2",
      "metadata": {
        "execution": {
          "iopub.execute_input": "2022-01-11T06:28:48.409143Z",
          "iopub.status.busy": "2022-01-11T06:28:48.408457Z",
          "iopub.status.idle": "2022-01-11T06:28:48.413750Z",
          "shell.execute_reply": "2022-01-11T06:28:48.414295Z",
          "shell.execute_reply.started": "2022-01-11T06:21:22.095137Z"
        },
        "papermill": {
          "duration": 0.106836,
          "end_time": "2022-01-11T06:28:48.414510",
          "exception": false,
          "start_time": "2022-01-11T06:28:48.307674",
          "status": "completed"
        },
        "tags": [],
        "colab": {
          "base_uri": "https://localhost:8080/"
        },
        "id": "bf2681d2",
        "outputId": "fec4ed24-1e84-490e-deee-1abadd88bae6"
      },
      "outputs": [
        {
          "output_type": "execute_result",
          "data": {
            "text/plain": [
              "array([0, 0, 1, ..., 0, 0, 0])"
            ]
          },
          "metadata": {},
          "execution_count": 34
        }
      ],
      "source": [
        "y"
      ]
    },
    {
      "cell_type": "markdown",
      "source": [
        "## MODEL"
      ],
      "metadata": {
        "id": "iOKLVKZof2jL"
      },
      "id": "iOKLVKZof2jL"
    },
    {
      "cell_type": "code",
      "execution_count": 35,
      "id": "3f3e8b1c",
      "metadata": {
        "execution": {
          "iopub.execute_input": "2022-01-11T06:28:48.613819Z",
          "iopub.status.busy": "2022-01-11T06:28:48.613144Z",
          "iopub.status.idle": "2022-01-11T06:28:48.851897Z",
          "shell.execute_reply": "2022-01-11T06:28:48.851274Z",
          "shell.execute_reply.started": "2022-01-11T06:21:22.106769Z"
        },
        "papermill": {
          "duration": 0.339229,
          "end_time": "2022-01-11T06:28:48.852059",
          "exception": false,
          "start_time": "2022-01-11T06:28:48.512830",
          "status": "completed"
        },
        "tags": [],
        "id": "3f3e8b1c"
      },
      "outputs": [],
      "source": [
        "from sklearn.model_selection import train_test_split\n",
        "X_train, X_test, y_train, y_test = train_test_split(X,y,test_size=0.2,random_state=2)"
      ]
    },
    {
      "cell_type": "code",
      "execution_count": 36,
      "id": "eff1ccb8",
      "metadata": {
        "execution": {
          "iopub.execute_input": "2022-01-11T06:28:49.054884Z",
          "iopub.status.busy": "2022-01-11T06:28:49.053959Z",
          "iopub.status.idle": "2022-01-11T06:28:49.059479Z",
          "shell.execute_reply": "2022-01-11T06:28:49.060098Z",
          "shell.execute_reply.started": "2022-01-11T06:21:22.296413Z"
        },
        "papermill": {
          "duration": 0.110218,
          "end_time": "2022-01-11T06:28:49.060299",
          "exception": false,
          "start_time": "2022-01-11T06:28:48.950081",
          "status": "completed"
        },
        "tags": [],
        "id": "eff1ccb8"
      },
      "outputs": [],
      "source": [
        "from sklearn.naive_bayes import MultinomialNB\n",
        "from sklearn.metrics import accuracy_score,confusion_matrix,precision_score"
      ]
    },
    {
      "cell_type": "code",
      "execution_count": 37,
      "id": "04e314c9",
      "metadata": {
        "execution": {
          "iopub.execute_input": "2022-01-11T06:28:49.260554Z",
          "iopub.status.busy": "2022-01-11T06:28:49.259894Z",
          "iopub.status.idle": "2022-01-11T06:28:49.263050Z",
          "shell.execute_reply": "2022-01-11T06:28:49.263576Z",
          "shell.execute_reply.started": "2022-01-11T06:21:22.305474Z"
        },
        "papermill": {
          "duration": 0.105009,
          "end_time": "2022-01-11T06:28:49.263770",
          "exception": false,
          "start_time": "2022-01-11T06:28:49.158761",
          "status": "completed"
        },
        "tags": [],
        "id": "04e314c9"
      },
      "outputs": [],
      "source": [
        "mnb = MultinomialNB()"
      ]
    },
    {
      "cell_type": "code",
      "execution_count": 38,
      "id": "856d4aa8",
      "metadata": {
        "execution": {
          "iopub.execute_input": "2022-01-11T06:28:49.461584Z",
          "iopub.status.busy": "2022-01-11T06:28:49.460932Z",
          "iopub.status.idle": "2022-01-11T06:28:49.896321Z",
          "shell.execute_reply": "2022-01-11T06:28:49.897369Z",
          "shell.execute_reply.started": "2022-01-11T06:21:22.314035Z"
        },
        "papermill": {
          "duration": 0.53644,
          "end_time": "2022-01-11T06:28:49.897648",
          "exception": false,
          "start_time": "2022-01-11T06:28:49.361208",
          "status": "completed"
        },
        "tags": [],
        "colab": {
          "base_uri": "https://localhost:8080/"
        },
        "id": "856d4aa8",
        "outputId": "157d4cb1-bc73-4cd1-91e6-477b5ca64d7f"
      },
      "outputs": [
        {
          "output_type": "stream",
          "name": "stdout",
          "text": [
            "0.9748549323017408\n",
            "[[880  16]\n",
            " [ 10 128]]\n",
            "0.8888888888888888\n"
          ]
        }
      ],
      "source": [
        "mnb.fit(X_train,y_train)\n",
        "y_pred2 = mnb.predict(X_test)\n",
        "print(accuracy_score(y_test,y_pred2))\n",
        "print(confusion_matrix(y_test,y_pred2))\n",
        "print(precision_score(y_test,y_pred2))"
      ]
    },
    {
      "cell_type": "code",
      "source": [
        "import seaborn as sns"
      ],
      "metadata": {
        "id": "EZwwVPIwhs8A"
      },
      "id": "EZwwVPIwhs8A",
      "execution_count": 40,
      "outputs": []
    },
    {
      "cell_type": "code",
      "source": [
        "sns.heatmap(confusion_matrix(y_test,y_pred2))"
      ],
      "metadata": {
        "colab": {
          "base_uri": "https://localhost:8080/",
          "height": 282
        },
        "id": "sXb7KRZEh_4J",
        "outputId": "460c0d2a-efa1-4caf-abc0-4ba3141edbf7"
      },
      "id": "sXb7KRZEh_4J",
      "execution_count": 41,
      "outputs": [
        {
          "output_type": "execute_result",
          "data": {
            "text/plain": [
              "<matplotlib.axes._subplots.AxesSubplot at 0x7f5937132910>"
            ]
          },
          "metadata": {},
          "execution_count": 41
        },
        {
          "output_type": "display_data",
          "data": {
            "image/png": "[encoded data removed]",
            "text/plain": [
              "<Figure size 432x288 with 2 Axes>"
            ]
          },
          "metadata": {
            "needs_background": "light"
          }
        }
      ]
    },
    {
      "cell_type": "markdown",
      "id": "c90a25d1",
      "metadata": {
        "papermill": {
          "duration": 0.096574,
          "end_time": "2022-01-11T06:28:50.141628",
          "exception": false,
          "start_time": "2022-01-11T06:28:50.045054",
          "status": "completed"
        },
        "tags": [],
        "id": "c90a25d1"
      },
      "source": [
        "#### using tf-idf"
      ]
    },
    {
      "cell_type": "code",
      "execution_count": null,
      "id": "69537ae4",
      "metadata": {
        "execution": {
          "iopub.execute_input": "2022-01-11T06:28:50.339740Z",
          "iopub.status.busy": "2022-01-11T06:28:50.339119Z",
          "iopub.status.idle": "2022-01-11T06:28:50.341965Z",
          "shell.execute_reply": "2022-01-11T06:28:50.341359Z",
          "shell.execute_reply.started": "2022-01-11T06:21:22.650691Z"
        },
        "papermill": {
          "duration": 0.10391,
          "end_time": "2022-01-11T06:28:50.342099",
          "exception": false,
          "start_time": "2022-01-11T06:28:50.238189",
          "status": "completed"
        },
        "tags": [],
        "id": "69537ae4"
      },
      "outputs": [],
      "source": [
        "from sklearn.feature_extraction.text import TfidfVectorizer"
      ]
    },
    {
      "cell_type": "code",
      "execution_count": null,
      "id": "5bd03e7e",
      "metadata": {
        "execution": {
          "iopub.execute_input": "2022-01-11T06:28:50.542616Z",
          "iopub.status.busy": "2022-01-11T06:28:50.541133Z",
          "iopub.status.idle": "2022-01-11T06:28:50.544634Z",
          "shell.execute_reply": "2022-01-11T06:28:50.545223Z",
          "shell.execute_reply.started": "2022-01-11T06:21:22.657659Z"
        },
        "papermill": {
          "duration": 0.105625,
          "end_time": "2022-01-11T06:28:50.545441",
          "exception": false,
          "start_time": "2022-01-11T06:28:50.439816",
          "status": "completed"
        },
        "tags": [],
        "id": "5bd03e7e"
      },
      "outputs": [],
      "source": [
        " tfidf = TfidfVectorizer()"
      ]
    },
    {
      "cell_type": "code",
      "source": [
        "df['transformed_text']"
      ],
      "metadata": {
        "colab": {
          "base_uri": "https://localhost:8080/"
        },
        "id": "U1cd7OzS_CB0",
        "outputId": "26396248-1c61-4a53-8f94-e45f1aefca9b"
      },
      "id": "U1cd7OzS_CB0",
      "execution_count": null,
      "outputs": [
        {
          "output_type": "execute_result",
          "data": {
            "text/plain": [
              "0       go jurong point crazi avail bugi n great world...\n",
              "1                                   ok lar joke wif u oni\n",
              "2       free entri 2 wkli comp win fa cup final tkt 21...\n",
              "3                     u dun say earli hor u c alreadi say\n",
              "4                    nah think goe usf live around though\n",
              "                              ...                        \n",
              "5567    2nd time tri 2 contact u u å 750 pound prize 2...\n",
              "5568                                b go esplanad fr home\n",
              "5569                                    piti mood suggest\n",
              "5570    guy bitch act like interest buy someth els nex...\n",
              "5571                                       rofl true name\n",
              "Name: transformed_text, Length: 5169, dtype: object"
            ]
          },
          "metadata": {},
          "execution_count": 145
        }
      ]
    },
    {
      "cell_type": "code",
      "execution_count": null,
      "id": "509edca3",
      "metadata": {
        "execution": {
          "iopub.execute_input": "2022-01-11T06:28:50.758288Z",
          "iopub.status.busy": "2022-01-11T06:28:50.746675Z",
          "iopub.status.idle": "2022-01-11T06:28:51.033765Z",
          "shell.execute_reply": "2022-01-11T06:28:51.032951Z",
          "shell.execute_reply.started": "2022-01-11T06:21:22.677475Z"
        },
        "papermill": {
          "duration": 0.389779,
          "end_time": "2022-01-11T06:28:51.033978",
          "exception": false,
          "start_time": "2022-01-11T06:28:50.644199",
          "status": "completed"
        },
        "tags": [],
        "id": "509edca3"
      },
      "outputs": [],
      "source": [
        "X = tfidf.fit_transform(df['transformed_text']).toarray()"
      ]
    },
    {
      "cell_type": "code",
      "execution_count": null,
      "id": "d8636e96",
      "metadata": {
        "execution": {
          "iopub.execute_input": "2022-01-11T06:28:51.237847Z",
          "iopub.status.busy": "2022-01-11T06:28:51.236936Z",
          "iopub.status.idle": "2022-01-11T06:28:51.241643Z",
          "shell.execute_reply": "2022-01-11T06:28:51.240862Z",
          "shell.execute_reply.started": "2022-01-11T06:21:22.991557Z"
        },
        "papermill": {
          "duration": 0.108772,
          "end_time": "2022-01-11T06:28:51.241845",
          "exception": false,
          "start_time": "2022-01-11T06:28:51.133073",
          "status": "completed"
        },
        "tags": [],
        "colab": {
          "base_uri": "https://localhost:8080/"
        },
        "id": "d8636e96",
        "outputId": "53b8ff37-8386-4d2a-cb06-013f64bafa41"
      },
      "outputs": [
        {
          "output_type": "execute_result",
          "data": {
            "text/plain": [
              "(5169, 7206)"
            ]
          },
          "metadata": {},
          "execution_count": 71
        }
      ],
      "source": [
        "X.shape"
      ]
    },
    {
      "cell_type": "code",
      "execution_count": null,
      "id": "f7f089fe",
      "metadata": {
        "execution": {
          "iopub.execute_input": "2022-01-11T06:28:51.441658Z",
          "iopub.status.busy": "2022-01-11T06:28:51.441037Z",
          "iopub.status.idle": "2022-01-11T06:28:51.447034Z",
          "shell.execute_reply": "2022-01-11T06:28:51.447576Z",
          "shell.execute_reply.started": "2022-01-11T06:21:23.001965Z"
        },
        "papermill": {
          "duration": 0.108023,
          "end_time": "2022-01-11T06:28:51.447744",
          "exception": false,
          "start_time": "2022-01-11T06:28:51.339721",
          "status": "completed"
        },
        "tags": [],
        "colab": {
          "base_uri": "https://localhost:8080/"
        },
        "id": "f7f089fe",
        "outputId": "02756e7d-6a10-4342-a6e5-f25bb24cf54f"
      },
      "outputs": [
        {
          "output_type": "execute_result",
          "data": {
            "text/plain": [
              "(5169,)"
            ]
          },
          "metadata": {},
          "execution_count": 72
        }
      ],
      "source": [
        "y =df['target'].values\n",
        "y.shape"
      ]
    },
    {
      "cell_type": "code",
      "execution_count": 42,
      "id": "e0c5aa8f",
      "metadata": {
        "execution": {
          "iopub.execute_input": "2022-01-11T06:28:51.648884Z",
          "iopub.status.busy": "2022-01-11T06:28:51.648161Z",
          "iopub.status.idle": "2022-01-11T06:28:51.650098Z",
          "shell.execute_reply": "2022-01-11T06:28:51.650579Z",
          "shell.execute_reply.started": "2022-01-11T06:22:14.825325Z"
        },
        "papermill": {
          "duration": 0.105412,
          "end_time": "2022-01-11T06:28:51.650768",
          "exception": false,
          "start_time": "2022-01-11T06:28:51.545356",
          "status": "completed"
        },
        "tags": [],
        "id": "e0c5aa8f"
      },
      "outputs": [],
      "source": [
        "from sklearn.linear_model import LogisticRegression\n",
        "import pickle"
      ]
    },
    {
      "cell_type": "code",
      "execution_count": 43,
      "id": "e24f98b9",
      "metadata": {
        "execution": {
          "iopub.execute_input": "2022-01-11T06:28:51.853133Z",
          "iopub.status.busy": "2022-01-11T06:28:51.852490Z",
          "iopub.status.idle": "2022-01-11T06:28:51.855861Z",
          "shell.execute_reply": "2022-01-11T06:28:51.856317Z",
          "shell.execute_reply.started": "2022-01-11T06:22:38.099849Z"
        },
        "papermill": {
          "duration": 0.105516,
          "end_time": "2022-01-11T06:28:51.856525",
          "exception": false,
          "start_time": "2022-01-11T06:28:51.751009",
          "status": "completed"
        },
        "tags": [],
        "id": "e24f98b9"
      },
      "outputs": [],
      "source": [
        "lrc = LogisticRegression(solver='liblinear', penalty='l1')"
      ]
    },
    {
      "cell_type": "code",
      "execution_count": 47,
      "id": "c87d0568",
      "metadata": {
        "execution": {
          "iopub.execute_input": "2022-01-11T06:28:52.062279Z",
          "iopub.status.busy": "2022-01-11T06:28:52.061608Z",
          "iopub.status.idle": "2022-01-11T06:28:52.066017Z",
          "shell.execute_reply": "2022-01-11T06:28:52.066538Z",
          "shell.execute_reply.started": "2022-01-11T06:23:48.246038Z"
        },
        "papermill": {
          "duration": 0.108067,
          "end_time": "2022-01-11T06:28:52.066732",
          "exception": false,
          "start_time": "2022-01-11T06:28:51.958665",
          "status": "completed"
        },
        "tags": [],
        "id": "c87d0568"
      },
      "outputs": [],
      "source": [
        "def train_classifier(lrc,X_train,y_train,X_test,y_test):\n",
        "    lrc.fit(X_train,y_train)\n",
        "    y_pred = lrc.predict(X_test)\n",
        "    confusion = confusion_matrix(y_test,y_pred)\n",
        "    accuracy = accuracy_score(y_test,y_pred)\n",
        "    precision = precision_score(y_test,y_pred)\n",
        "    pickle.dump(lrc, open('textspam.sav', 'wb'))\n",
        "    \n",
        "    return accuracy,confusion, precision"
      ]
    },
    {
      "cell_type": "code",
      "execution_count": 48,
      "id": "5656c26f",
      "metadata": {
        "execution": {
          "iopub.execute_input": "2022-01-11T06:28:52.268829Z",
          "iopub.status.busy": "2022-01-11T06:28:52.268204Z",
          "iopub.status.idle": "2022-01-11T06:28:52.581791Z",
          "shell.execute_reply": "2022-01-11T06:28:52.580763Z",
          "shell.execute_reply.started": "2022-01-11T06:24:10.566497Z"
        },
        "papermill": {
          "duration": 0.414975,
          "end_time": "2022-01-11T06:28:52.582043",
          "exception": false,
          "start_time": "2022-01-11T06:28:52.167068",
          "status": "completed"
        },
        "tags": [],
        "id": "5656c26f"
      },
      "outputs": [],
      "source": [
        "a, conf, pre = train_classifier(lrc,X_train,y_train,X_test,y_test)"
      ]
    },
    {
      "cell_type": "code",
      "source": [
        "print(\"Accuracy: \", a)\n",
        "print(\"Precision: \", pre)"
      ],
      "metadata": {
        "colab": {
          "base_uri": "https://localhost:8080/"
        },
        "id": "U6kIbSXMi6-H",
        "outputId": "ba3d2bf4-f367-41cb-d57b-9815626a1b27"
      },
      "id": "U6kIbSXMi6-H",
      "execution_count": 51,
      "outputs": [
        {
          "output_type": "stream",
          "name": "stdout",
          "text": [
            "Accuracy:  0.9777562862669246\n",
            "Precision:  0.9831932773109243\n"
          ]
        }
      ]
    },
    {
      "cell_type": "code",
      "source": [
        "sns.heatmap(conf)"
      ],
      "metadata": {
        "colab": {
          "base_uri": "https://localhost:8080/",
          "height": 282
        },
        "id": "6RKNoZwTiuZP",
        "outputId": "90e1982a-23da-48a1-9f2a-ea4d3b4d09c9"
      },
      "id": "6RKNoZwTiuZP",
      "execution_count": 49,
      "outputs": [
        {
          "output_type": "execute_result",
          "data": {
            "text/plain": [
              "<matplotlib.axes._subplots.AxesSubplot at 0x7f59373bce10>"
            ]
          },
          "metadata": {},
          "execution_count": 49
        },
        {
          "output_type": "display_data",
          "data": {
            "image/png": "[encoded data removed]",
            "text/plain": [
              "<Figure size 432x288 with 2 Axes>"
            ]
          },
          "metadata": {
            "needs_background": "light"
          }
        }
      ]
    },
    {
      "cell_type": "code",
      "source": [
        "import keras\n",
        "import xgboost as xgb\n",
        "import tensorflow"
      ],
      "metadata": {
        "id": "GbZQFBWH0iQi"
      },
      "id": "GbZQFBWH0iQi",
      "execution_count": null,
      "outputs": []
    },
    {
      "cell_type": "code",
      "execution_count": null,
      "id": "33829602",
      "metadata": {
        "papermill": {
          "duration": 0.113583,
          "end_time": "2022-01-11T06:28:52.848609",
          "exception": false,
          "start_time": "2022-01-11T06:28:52.735026",
          "status": "completed"
        },
        "tags": [],
        "id": "33829602"
      },
      "outputs": [],
      "source": [
        "features = [-1] * 30\n",
        "def get_url_features(url, count=1):\n",
        "    model = xgb.XGBRegressor()\n",
        "    model.load_model(\"phishxgb.json\")\n",
        "    is_spam = {1: True, 0: False}\n",
        "    green_c, red_c = 0, 0\n",
        "    for i in range(count):\n",
        "        if is_spam[round(model.predict(url)[0])]:\n",
        "            green_c += 1\n",
        "        else:\n",
        "            red_c += 1\n",
        "    return abs(count - red_c) / count   >= 0.80"
      ]
    },
    {
      "cell_type": "code",
      "source": [
        "get_url_features(features)"
      ],
      "metadata": {
        "colab": {
          "base_uri": "https://localhost:8080/"
        },
        "id": "3ZEie6nU0-LU",
        "outputId": "af271407-bc55-42ad-f01f-52db6237e138"
      },
      "id": "3ZEie6nU0-LU",
      "execution_count": null,
      "outputs": [
        {
          "output_type": "execute_result",
          "data": {
            "text/plain": [
              "False"
            ]
          },
          "metadata": {},
          "execution_count": 95
        }
      ]
    },
    {
      "cell_type": "code",
      "source": [
        "def is_not_text_spam(text):\n",
        "    tfidf = TfidfVectorizer()\n",
        "    text = transform_text(text)\n",
        "    x = pd.DataFrame([text])\n",
        "    txt = tfidf.fit_transform(x[0]).toarray()\n",
        "    txt = tf.keras.preprocessing.sequence.pad_sequences(txt, value=0, padding='post', maxlen=7206)\n",
        "    print(txt, txt.shape)\n",
        "    model1 = pickle.load(open('textspam.sav', 'rb'))\n",
        "    return model1.predict(txt)[0]"
      ],
      "metadata": {
        "id": "5ABK-y061HO9"
      },
      "id": "5ABK-y061HO9",
      "execution_count": null,
      "outputs": []
    },
    {
      "cell_type": "code",
      "source": [
        "is_not_text_spam(\"Free entry in 2 a wkly comp to win FA Cup final tkts 21st May 2005. Text FA to 87121 to receive entry question(std txt rate)T&C's apply 08452810075over18's\")"
      ],
      "metadata": {
        "colab": {
          "base_uri": "https://localhost:8080/"
        },
        "id": "q571nTmh5edh",
        "outputId": "5d1adec3-4dee-44e4-df75-ea3a024271f0"
      },
      "id": "q571nTmh5edh",
      "execution_count": null,
      "outputs": [
        {
          "output_type": "stream",
          "name": "stdout",
          "text": [
            "[[0 0 0 ... 0 0 0]] (1, 7206)\n"
          ]
        },
        {
          "output_type": "execute_result",
          "data": {
            "text/plain": [
              "array([0])"
            ]
          },
          "metadata": {},
          "execution_count": 175
        }
      ]
    },
    {
      "cell_type": "code",
      "source": [
        ""
      ],
      "metadata": {
        "id": "6nuQCc4-5txN"
      },
      "id": "6nuQCc4-5txN",
      "execution_count": null,
      "outputs": []
    }
  ],
  "metadata": {
    "kernelspec": {
      "display_name": "Python 3",
      "language": "python",
      "name": "python3"
    },
    "language_info": {
      "codemirror_mode": {
        "name": "ipython",
        "version": 3
      },
      "file_extension": ".py",
      "mimetype": "text/x-python",
      "name": "python",
      "nbconvert_exporter": "python",
      "pygments_lexer": "ipython3",
      "version": "3.7.12"
    },
    "papermill": {
      "default_parameters": {},
      "duration": 53.97574,
      "end_time": "2022-01-11T06:28:53.961540",
      "environment_variables": {},
      "exception": null,
      "input_path": "__notebook__.ipynb",
      "output_path": "__notebook__.ipynb",
      "parameters": {},
      "start_time": "2022-01-11T06:27:59.985800",
      "version": "2.3.3"
    },
    "colab": {
      "name": "sms-spam.ipynb",
      "provenance": [],
      "collapsed_sections": [
        "c8323ef7"
      ]
    }
  },
  "nbformat": 4,
  "nbformat_minor": 5
}